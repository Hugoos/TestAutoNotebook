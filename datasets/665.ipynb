{
 "cells": [
  {
   "cell_type": "markdown",
   "metadata": {},
   "source": [
    "    # Automatic Jupyter Notebook for OpenML dataset 665: sleuth_case2002"
   ]
  },
  {
   "cell_type": "code",
   "execution_count": 1,
   "metadata": {},
   "outputs": [
    {
     "name": "stdout",
     "output_type": "stream",
     "text": [
      "No compatible runs found\n"
     ]
    },
    {
     "data": {
      "text/html": [
       "<div>\n",
       "<style scoped>\n",
       "    .dataframe tbody tr th:only-of-type {\n",
       "        vertical-align: middle;\n",
       "    }\n",
       "\n",
       "    .dataframe tbody tr th {\n",
       "        vertical-align: top;\n",
       "    }\n",
       "\n",
       "    .dataframe thead th {\n",
       "        text-align: right;\n",
       "    }\n",
       "</style>\n",
       "<table border=\"1\" class=\"dataframe\">\n",
       "  <thead>\n",
       "    <tr style=\"text-align: right;\">\n",
       "      <th></th>\n",
       "    </tr>\n",
       "  </thead>\n",
       "  <tbody>\n",
       "  </tbody>\n",
       "</table>\n",
       "</div>"
      ],
      "text/plain": [
       "Empty DataFrame\n",
       "Columns: []\n",
       "Index: []"
      ]
     },
     "execution_count": 1,
     "metadata": {},
     "output_type": "execute_result"
    }
   ],
   "source": [
    "%matplotlib inline\n",
    "from scripts.preamble import *\n",
    "did = 665\n",
    "data = oml.datasets.get_dataset(did)\n",
    "X, y, features = getData(data)\n",
    "task, topList, strats, scores = getOpenMLData(did, data.default_target_attribute) \n",
    "topList[:10] "
   ]
  },
  {
   "cell_type": "code",
   "execution_count": 2,
   "metadata": {},
   "outputs": [
    {
     "name": "stdout",
     "output_type": "stream",
     "text": [
      "Problem type: supervised regression problem.\n",
      "Using correct task\n"
     ]
    }
   ],
   "source": [
    "from scripts.problemType import *\n",
    "problemType = findProblemType(data) \n",
    "checkTask(task, problemType, data.default_target_attribute) "
   ]
  },
  {
   "cell_type": "code",
   "execution_count": 3,
   "metadata": {},
   "outputs": [
    {
     "data": {
      "image/png": "[encoded data removed]",
      "text/plain": [
       "<Figure size 1152x648 with 9 Axes>"
      ]
     },
     "metadata": {
      "needs_background": "light"
     },
     "output_type": "display_data"
    }
   ],
   "source": [
    "from scripts.dataVisualization import *\n",
    "show1DHist(data) "
   ]
  },
  {
   "cell_type": "code",
   "execution_count": 4,
   "metadata": {},
   "outputs": [
    {
     "data": {
      "text/html": [
       "<style  type=\"text/css\" >\n",
       "    #T_28d7cbd4_2e1a_11e9_94e8_6245b4ebbdcfrow0_col0 {\n",
       "            background-color:  yellow;\n",
       "        }    #T_28d7cbd4_2e1a_11e9_94e8_6245b4ebbdcfrow0_col1 {\n",
       "            background-color:  yellow;\n",
       "        }    #T_28d7cbd4_2e1a_11e9_94e8_6245b4ebbdcfrow0_col2 {\n",
       "            background-color:  yellow;\n",
       "        }    #T_28d7cbd4_2e1a_11e9_94e8_6245b4ebbdcfrow0_col6 {\n",
       "            background-color:  #ff0000;\n",
       "        }    #T_28d7cbd4_2e1a_11e9_94e8_6245b4ebbdcfrow1_col0 {\n",
       "            background-color:  yellow;\n",
       "        }    #T_28d7cbd4_2e1a_11e9_94e8_6245b4ebbdcfrow1_col2 {\n",
       "            background-color:  yellow;\n",
       "        }    #T_28d7cbd4_2e1a_11e9_94e8_6245b4ebbdcfrow1_col3 {\n",
       "            background-color:  yellow;\n",
       "        }    #T_28d7cbd4_2e1a_11e9_94e8_6245b4ebbdcfrow1_col6 {\n",
       "            background-color:  #ff4b4b;\n",
       "        }    #T_28d7cbd4_2e1a_11e9_94e8_6245b4ebbdcfrow2_col1 {\n",
       "            background-color:  yellow;\n",
       "        }    #T_28d7cbd4_2e1a_11e9_94e8_6245b4ebbdcfrow2_col3 {\n",
       "            background-color:  yellow;\n",
       "        }    #T_28d7cbd4_2e1a_11e9_94e8_6245b4ebbdcfrow2_col6 {\n",
       "            background-color:  #ff7070;\n",
       "        }    #T_28d7cbd4_2e1a_11e9_94e8_6245b4ebbdcfrow3_col0 {\n",
       "            background-color:  yellow;\n",
       "        }    #T_28d7cbd4_2e1a_11e9_94e8_6245b4ebbdcfrow3_col2 {\n",
       "            background-color:  yellow;\n",
       "        }    #T_28d7cbd4_2e1a_11e9_94e8_6245b4ebbdcfrow3_col3 {\n",
       "            background-color:  yellow;\n",
       "        }    #T_28d7cbd4_2e1a_11e9_94e8_6245b4ebbdcfrow3_col6 {\n",
       "            background-color:  #ff7070;\n",
       "        }    #T_28d7cbd4_2e1a_11e9_94e8_6245b4ebbdcfrow4_col0 {\n",
       "            background-color:  yellow;\n",
       "        }    #T_28d7cbd4_2e1a_11e9_94e8_6245b4ebbdcfrow4_col3 {\n",
       "            background-color:  yellow;\n",
       "        }    #T_28d7cbd4_2e1a_11e9_94e8_6245b4ebbdcfrow4_col6 {\n",
       "            background-color:  #ff9e9e;\n",
       "        }    #T_28d7cbd4_2e1a_11e9_94e8_6245b4ebbdcfrow5_col1 {\n",
       "            background-color:  yellow;\n",
       "        }    #T_28d7cbd4_2e1a_11e9_94e8_6245b4ebbdcfrow5_col2 {\n",
       "            background-color:  yellow;\n",
       "        }    #T_28d7cbd4_2e1a_11e9_94e8_6245b4ebbdcfrow5_col6 {\n",
       "            background-color:  #ffafaf;\n",
       "        }    #T_28d7cbd4_2e1a_11e9_94e8_6245b4ebbdcfrow6_col0 {\n",
       "            background-color:  yellow;\n",
       "        }    #T_28d7cbd4_2e1a_11e9_94e8_6245b4ebbdcfrow6_col1 {\n",
       "            background-color:  yellow;\n",
       "        }    #T_28d7cbd4_2e1a_11e9_94e8_6245b4ebbdcfrow6_col4 {\n",
       "            background-color:  yellow;\n",
       "        }    #T_28d7cbd4_2e1a_11e9_94e8_6245b4ebbdcfrow6_col6 {\n",
       "            background-color:  #ffcccc;\n",
       "        }    #T_28d7cbd4_2e1a_11e9_94e8_6245b4ebbdcfrow7_col1 {\n",
       "            background-color:  yellow;\n",
       "        }    #T_28d7cbd4_2e1a_11e9_94e8_6245b4ebbdcfrow7_col2 {\n",
       "            background-color:  yellow;\n",
       "        }    #T_28d7cbd4_2e1a_11e9_94e8_6245b4ebbdcfrow7_col3 {\n",
       "            background-color:  yellow;\n",
       "        }    #T_28d7cbd4_2e1a_11e9_94e8_6245b4ebbdcfrow7_col4 {\n",
       "            background-color:  yellow;\n",
       "        }    #T_28d7cbd4_2e1a_11e9_94e8_6245b4ebbdcfrow7_col6 {\n",
       "            background-color:  #ffcfcf;\n",
       "        }    #T_28d7cbd4_2e1a_11e9_94e8_6245b4ebbdcfrow8_col0 {\n",
       "            background-color:  yellow;\n",
       "        }    #T_28d7cbd4_2e1a_11e9_94e8_6245b4ebbdcfrow8_col3 {\n",
       "            background-color:  yellow;\n",
       "        }    #T_28d7cbd4_2e1a_11e9_94e8_6245b4ebbdcfrow8_col6 {\n",
       "            background-color:  #ffd2d2;\n",
       "        }    #T_28d7cbd4_2e1a_11e9_94e8_6245b4ebbdcfrow9_col6 {\n",
       "            background-color:  #ffe5e5;\n",
       "        }</style>  \n",
       "<table id=\"T_28d7cbd4_2e1a_11e9_94e8_6245b4ebbdcf\" > \n",
       "<thead>    <tr> \n",
       "        <th class=\"blank level0\" ></th> \n",
       "        <th class=\"col_heading level0 col0\" >FM</th> \n",
       "        <th class=\"col_heading level0 col1\" >LC</th> \n",
       "        <th class=\"col_heading level0 col2\" >BK</th> \n",
       "        <th class=\"col_heading level0 col3\" >SS</th> \n",
       "        <th class=\"col_heading level0 col4\" >AG</th> \n",
       "        <th class=\"col_heading level0 col5\" >YR</th> \n",
       "        <th class=\"col_heading level0 col6\" >outlier</th> \n",
       "    </tr></thead> \n",
       "<tbody>    <tr> \n",
       "        <th id=\"T_28d7cbd4_2e1a_11e9_94e8_6245b4ebbdcflevel0_row0\" class=\"row_heading level0 row0\" >12</th> \n",
       "        <td id=\"T_28d7cbd4_2e1a_11e9_94e8_6245b4ebbdcfrow0_col0\" class=\"data row0 col0\" >1</td> \n",
       "        <td id=\"T_28d7cbd4_2e1a_11e9_94e8_6245b4ebbdcfrow0_col1\" class=\"data row0 col1\" >1</td> \n",
       "        <td id=\"T_28d7cbd4_2e1a_11e9_94e8_6245b4ebbdcfrow0_col2\" class=\"data row0 col2\" >1</td> \n",
       "        <td id=\"T_28d7cbd4_2e1a_11e9_94e8_6245b4ebbdcfrow0_col3\" class=\"data row0 col3\" >0</td> \n",
       "        <td id=\"T_28d7cbd4_2e1a_11e9_94e8_6245b4ebbdcfrow0_col4\" class=\"data row0 col4\" >61</td> \n",
       "        <td id=\"T_28d7cbd4_2e1a_11e9_94e8_6245b4ebbdcfrow0_col5\" class=\"data row0 col5\" >0</td> \n",
       "        <td id=\"T_28d7cbd4_2e1a_11e9_94e8_6245b4ebbdcfrow0_col6\" class=\"data row0 col6\" >-0.0993224</td> \n",
       "    </tr>    <tr> \n",
       "        <th id=\"T_28d7cbd4_2e1a_11e9_94e8_6245b4ebbdcflevel0_row1\" class=\"row_heading level0 row1\" >52</th> \n",
       "        <td id=\"T_28d7cbd4_2e1a_11e9_94e8_6245b4ebbdcfrow1_col0\" class=\"data row1 col0\" >1</td> \n",
       "        <td id=\"T_28d7cbd4_2e1a_11e9_94e8_6245b4ebbdcfrow1_col1\" class=\"data row1 col1\" >0</td> \n",
       "        <td id=\"T_28d7cbd4_2e1a_11e9_94e8_6245b4ebbdcfrow1_col2\" class=\"data row1 col2\" >1</td> \n",
       "        <td id=\"T_28d7cbd4_2e1a_11e9_94e8_6245b4ebbdcfrow1_col3\" class=\"data row1 col3\" >1</td> \n",
       "        <td id=\"T_28d7cbd4_2e1a_11e9_94e8_6245b4ebbdcfrow1_col4\" class=\"data row1 col4\" >62</td> \n",
       "        <td id=\"T_28d7cbd4_2e1a_11e9_94e8_6245b4ebbdcfrow1_col5\" class=\"data row1 col5\" >0</td> \n",
       "        <td id=\"T_28d7cbd4_2e1a_11e9_94e8_6245b4ebbdcfrow1_col6\" class=\"data row1 col6\" >-0.0895767</td> \n",
       "    </tr>    <tr> \n",
       "        <th id=\"T_28d7cbd4_2e1a_11e9_94e8_6245b4ebbdcflevel0_row2\" class=\"row_heading level0 row2\" >144</th> \n",
       "        <td id=\"T_28d7cbd4_2e1a_11e9_94e8_6245b4ebbdcfrow2_col0\" class=\"data row2 col0\" >0</td> \n",
       "        <td id=\"T_28d7cbd4_2e1a_11e9_94e8_6245b4ebbdcfrow2_col1\" class=\"data row2 col1\" >1</td> \n",
       "        <td id=\"T_28d7cbd4_2e1a_11e9_94e8_6245b4ebbdcfrow2_col2\" class=\"data row2 col2\" >0</td> \n",
       "        <td id=\"T_28d7cbd4_2e1a_11e9_94e8_6245b4ebbdcfrow2_col3\" class=\"data row2 col3\" >1</td> \n",
       "        <td id=\"T_28d7cbd4_2e1a_11e9_94e8_6245b4ebbdcfrow2_col4\" class=\"data row2 col4\" >43</td> \n",
       "        <td id=\"T_28d7cbd4_2e1a_11e9_94e8_6245b4ebbdcfrow2_col5\" class=\"data row2 col5\" >19</td> \n",
       "        <td id=\"T_28d7cbd4_2e1a_11e9_94e8_6245b4ebbdcfrow2_col6\" class=\"data row2 col6\" >-0.084754</td> \n",
       "    </tr>    <tr> \n",
       "        <th id=\"T_28d7cbd4_2e1a_11e9_94e8_6245b4ebbdcflevel0_row3\" class=\"row_heading level0 row3\" >134</th> \n",
       "        <td id=\"T_28d7cbd4_2e1a_11e9_94e8_6245b4ebbdcfrow3_col0\" class=\"data row3 col0\" >1</td> \n",
       "        <td id=\"T_28d7cbd4_2e1a_11e9_94e8_6245b4ebbdcfrow3_col1\" class=\"data row3 col1\" >0</td> \n",
       "        <td id=\"T_28d7cbd4_2e1a_11e9_94e8_6245b4ebbdcfrow3_col2\" class=\"data row3 col2\" >1</td> \n",
       "        <td id=\"T_28d7cbd4_2e1a_11e9_94e8_6245b4ebbdcfrow3_col3\" class=\"data row3 col3\" >1</td> \n",
       "        <td id=\"T_28d7cbd4_2e1a_11e9_94e8_6245b4ebbdcfrow3_col4\" class=\"data row3 col4\" >46</td> \n",
       "        <td id=\"T_28d7cbd4_2e1a_11e9_94e8_6245b4ebbdcfrow3_col5\" class=\"data row3 col5\" >16</td> \n",
       "        <td id=\"T_28d7cbd4_2e1a_11e9_94e8_6245b4ebbdcfrow3_col6\" class=\"data row3 col6\" >-0.0847278</td> \n",
       "    </tr>    <tr> \n",
       "        <th id=\"T_28d7cbd4_2e1a_11e9_94e8_6245b4ebbdcflevel0_row4\" class=\"row_heading level0 row4\" >16</th> \n",
       "        <td id=\"T_28d7cbd4_2e1a_11e9_94e8_6245b4ebbdcfrow4_col0\" class=\"data row4 col0\" >1</td> \n",
       "        <td id=\"T_28d7cbd4_2e1a_11e9_94e8_6245b4ebbdcfrow4_col1\" class=\"data row4 col1\" >0</td> \n",
       "        <td id=\"T_28d7cbd4_2e1a_11e9_94e8_6245b4ebbdcfrow4_col2\" class=\"data row4 col2\" >0</td> \n",
       "        <td id=\"T_28d7cbd4_2e1a_11e9_94e8_6245b4ebbdcfrow4_col3\" class=\"data row4 col3\" >1</td> \n",
       "        <td id=\"T_28d7cbd4_2e1a_11e9_94e8_6245b4ebbdcfrow4_col4\" class=\"data row4 col4\" >47</td> \n",
       "        <td id=\"T_28d7cbd4_2e1a_11e9_94e8_6245b4ebbdcfrow4_col5\" class=\"data row4 col5\" >0</td> \n",
       "        <td id=\"T_28d7cbd4_2e1a_11e9_94e8_6245b4ebbdcfrow4_col6\" class=\"data row4 col6\" >-0.0786875</td> \n",
       "    </tr>    <tr> \n",
       "        <th id=\"T_28d7cbd4_2e1a_11e9_94e8_6245b4ebbdcflevel0_row5\" class=\"row_heading level0 row5\" >54</th> \n",
       "        <td id=\"T_28d7cbd4_2e1a_11e9_94e8_6245b4ebbdcfrow5_col0\" class=\"data row5 col0\" >0</td> \n",
       "        <td id=\"T_28d7cbd4_2e1a_11e9_94e8_6245b4ebbdcfrow5_col1\" class=\"data row5 col1\" >1</td> \n",
       "        <td id=\"T_28d7cbd4_2e1a_11e9_94e8_6245b4ebbdcfrow5_col2\" class=\"data row5 col2\" >1</td> \n",
       "        <td id=\"T_28d7cbd4_2e1a_11e9_94e8_6245b4ebbdcfrow5_col3\" class=\"data row5 col3\" >0</td> \n",
       "        <td id=\"T_28d7cbd4_2e1a_11e9_94e8_6245b4ebbdcfrow5_col4\" class=\"data row5 col4\" >37</td> \n",
       "        <td id=\"T_28d7cbd4_2e1a_11e9_94e8_6245b4ebbdcfrow5_col5\" class=\"data row5 col5\" >19</td> \n",
       "        <td id=\"T_28d7cbd4_2e1a_11e9_94e8_6245b4ebbdcfrow5_col6\" class=\"data row5 col6\" >-0.0765781</td> \n",
       "    </tr>    <tr> \n",
       "        <th id=\"T_28d7cbd4_2e1a_11e9_94e8_6245b4ebbdcflevel0_row6\" class=\"row_heading level0 row6\" >24</th> \n",
       "        <td id=\"T_28d7cbd4_2e1a_11e9_94e8_6245b4ebbdcfrow6_col0\" class=\"data row6 col0\" >1</td> \n",
       "        <td id=\"T_28d7cbd4_2e1a_11e9_94e8_6245b4ebbdcfrow6_col1\" class=\"data row6 col1\" >1</td> \n",
       "        <td id=\"T_28d7cbd4_2e1a_11e9_94e8_6245b4ebbdcfrow6_col2\" class=\"data row6 col2\" >0</td> \n",
       "        <td id=\"T_28d7cbd4_2e1a_11e9_94e8_6245b4ebbdcfrow6_col3\" class=\"data row6 col3\" >0</td> \n",
       "        <td id=\"T_28d7cbd4_2e1a_11e9_94e8_6245b4ebbdcfrow6_col4\" class=\"data row6 col4\" >64</td> \n",
       "        <td id=\"T_28d7cbd4_2e1a_11e9_94e8_6245b4ebbdcfrow6_col5\" class=\"data row6 col5\" >40</td> \n",
       "        <td id=\"T_28d7cbd4_2e1a_11e9_94e8_6245b4ebbdcfrow6_col6\" class=\"data row6 col6\" >-0.0726474</td> \n",
       "    </tr>    <tr> \n",
       "        <th id=\"T_28d7cbd4_2e1a_11e9_94e8_6245b4ebbdcflevel0_row7\" class=\"row_heading level0 row7\" >27</th> \n",
       "        <td id=\"T_28d7cbd4_2e1a_11e9_94e8_6245b4ebbdcfrow7_col0\" class=\"data row7 col0\" >0</td> \n",
       "        <td id=\"T_28d7cbd4_2e1a_11e9_94e8_6245b4ebbdcfrow7_col1\" class=\"data row7 col1\" >1</td> \n",
       "        <td id=\"T_28d7cbd4_2e1a_11e9_94e8_6245b4ebbdcfrow7_col2\" class=\"data row7 col2\" >1</td> \n",
       "        <td id=\"T_28d7cbd4_2e1a_11e9_94e8_6245b4ebbdcfrow7_col3\" class=\"data row7 col3\" >1</td> \n",
       "        <td id=\"T_28d7cbd4_2e1a_11e9_94e8_6245b4ebbdcfrow7_col4\" class=\"data row7 col4\" >64</td> \n",
       "        <td id=\"T_28d7cbd4_2e1a_11e9_94e8_6245b4ebbdcfrow7_col5\" class=\"data row7 col5\" >13</td> \n",
       "        <td id=\"T_28d7cbd4_2e1a_11e9_94e8_6245b4ebbdcfrow7_col6\" class=\"data row7 col6\" >-0.0722732</td> \n",
       "    </tr>    <tr> \n",
       "        <th id=\"T_28d7cbd4_2e1a_11e9_94e8_6245b4ebbdcflevel0_row8\" class=\"row_heading level0 row8\" >46</th> \n",
       "        <td id=\"T_28d7cbd4_2e1a_11e9_94e8_6245b4ebbdcfrow8_col0\" class=\"data row8 col0\" >1</td> \n",
       "        <td id=\"T_28d7cbd4_2e1a_11e9_94e8_6245b4ebbdcfrow8_col1\" class=\"data row8 col1\" >0</td> \n",
       "        <td id=\"T_28d7cbd4_2e1a_11e9_94e8_6245b4ebbdcfrow8_col2\" class=\"data row8 col2\" >0</td> \n",
       "        <td id=\"T_28d7cbd4_2e1a_11e9_94e8_6245b4ebbdcfrow8_col3\" class=\"data row8 col3\" >1</td> \n",
       "        <td id=\"T_28d7cbd4_2e1a_11e9_94e8_6245b4ebbdcfrow8_col4\" class=\"data row8 col4\" >55</td> \n",
       "        <td id=\"T_28d7cbd4_2e1a_11e9_94e8_6245b4ebbdcfrow8_col5\" class=\"data row8 col5\" >24</td> \n",
       "        <td id=\"T_28d7cbd4_2e1a_11e9_94e8_6245b4ebbdcfrow8_col6\" class=\"data row8 col6\" >-0.0719635</td> \n",
       "    </tr>    <tr> \n",
       "        <th id=\"T_28d7cbd4_2e1a_11e9_94e8_6245b4ebbdcflevel0_row9\" class=\"row_heading level0 row9\" >55</th> \n",
       "        <td id=\"T_28d7cbd4_2e1a_11e9_94e8_6245b4ebbdcfrow9_col0\" class=\"data row9 col0\" >0</td> \n",
       "        <td id=\"T_28d7cbd4_2e1a_11e9_94e8_6245b4ebbdcfrow9_col1\" class=\"data row9 col1\" >0</td> \n",
       "        <td id=\"T_28d7cbd4_2e1a_11e9_94e8_6245b4ebbdcfrow9_col2\" class=\"data row9 col2\" >0</td> \n",
       "        <td id=\"T_28d7cbd4_2e1a_11e9_94e8_6245b4ebbdcfrow9_col3\" class=\"data row9 col3\" >0</td> \n",
       "        <td id=\"T_28d7cbd4_2e1a_11e9_94e8_6245b4ebbdcfrow9_col4\" class=\"data row9 col4\" >37</td> \n",
       "        <td id=\"T_28d7cbd4_2e1a_11e9_94e8_6245b4ebbdcfrow9_col5\" class=\"data row9 col5\" >16</td> \n",
       "        <td id=\"T_28d7cbd4_2e1a_11e9_94e8_6245b4ebbdcfrow9_col6\" class=\"data row9 col6\" >-0.0693371</td> \n",
       "    </tr></tbody> \n",
       "</table> "
      ],
      "text/plain": [
       "<pandas.io.formats.style.Styler at 0x1e02c9cdba8>"
      ]
     },
     "execution_count": 4,
     "metadata": {},
     "output_type": "execute_result"
    },
    {
     "data": {
      "image/png": "[encoded data removed]",
      "text/plain": [
       "<Figure size 1152x648 with 1 Axes>"
      ]
     },
     "metadata": {
      "needs_background": "light"
     },
     "output_type": "display_data"
    }
   ],
   "source": [
    "from scripts.outlierDetection import *\n",
    "outlierDetection(X, features, 10) "
   ]
  },
  {
   "cell_type": "code",
   "execution_count": 5,
   "metadata": {},
   "outputs": [
    {
     "name": "stdout",
     "output_type": "stream",
     "text": [
      "     did                                        name  similarity  \\\n",
      "0    150                                   covertype       0.837   \n",
      "1    180                                   covertype       0.721   \n",
      "2  40474                               thyroid-allbp       0.702   \n",
      "3  40475                            thyroid-allhyper       0.702   \n",
      "4  40476                             thyroid-allhypo       0.702   \n",
      "5  40477                              thyroid-allrep       0.702   \n",
      "6  40478                                 thyroid-dis       0.702   \n",
      "7  41000  jungle_chess_2pcs_endgame_panther_elephant       0.695   \n",
      "8     10                                       lymph       0.668   \n",
      "9    965                                         zoo       0.612   \n",
      "\n",
      "                              url  \n",
      "0    https://www.openml.org/d/150  \n",
      "1    https://www.openml.org/d/180  \n",
      "2  https://www.openml.org/d/40474  \n",
      "3  https://www.openml.org/d/40475  \n",
      "4  https://www.openml.org/d/40476  \n",
      "5  https://www.openml.org/d/40477  \n",
      "6  https://www.openml.org/d/40478  \n",
      "7  https://www.openml.org/d/41000  \n",
      "8     https://www.openml.org/d/10  \n",
      "9    https://www.openml.org/d/965  \n"
     ]
    }
   ],
   "source": [
    "from scripts.localDataOpenMLInterface import *\n",
    "showTopNSimilarDatasets(\"datasetSimilarityMatrixNormalized\", did, 10) "
   ]
  },
  {
   "cell_type": "markdown",
   "metadata": {},
   "source": [
    "Complexity threshold to determine if an algorithm will be run.\n"
   ]
  },
  {
   "cell_type": "code",
   "execution_count": 6,
   "metadata": {},
   "outputs": [],
   "source": [
    "comp = 50000000000000"
   ]
  },
  {
   "cell_type": "code",
   "execution_count": 7,
   "metadata": {},
   "outputs": [
    {
     "data": {
      "image/png": "[encoded data removed]",
      "text/plain": [
       "<Figure size 432x288 with 1 Axes>"
      ]
     },
     "metadata": {
      "needs_background": "light"
     },
     "output_type": "display_data"
    }
   ],
   "source": [
    "from scripts.featureImportance import *\n",
    "featureImportance(data) "
   ]
  },
  {
   "cell_type": "code",
   "execution_count": 8,
   "metadata": {},
   "outputs": [
    {
     "data": {
      "image/png": "[encoded data removed]",
      "text/plain": [
       "<Figure size 432x288 with 1 Axes>"
      ]
     },
     "metadata": {
      "needs_background": "light"
     },
     "output_type": "display_data"
    }
   ],
   "source": [
    "from scripts.baselines import *\n",
    "maxBaseline = generateBaselines(data, problemType) "
   ]
  },
  {
   "cell_type": "markdown",
   "metadata": {},
   "source": [
    "Please run the full notebook then toggle removeOutliers and run this cell and the next to compare the algorithms with and without outliers. "
   ]
  },
  {
   "cell_type": "code",
   "execution_count": 9,
   "metadata": {},
   "outputs": [],
   "source": [
    "removeOutliers = False "
   ]
  },
  {
   "cell_type": "code",
   "execution_count": 10,
   "metadata": {},
   "outputs": [
    {
     "name": "stderr",
     "output_type": "stream",
     "text": [
      "c:\\users\\hugo\\anaconda3\\lib\\site-packages\\deap\\tools\\_hypervolume\\pyhv.py:33: ImportWarning: Falling back to the python version of hypervolume module. Expect this to be very slow.\n",
      "  \"module. Expect this to be very slow.\", ImportWarning)\n"
     ]
    },
    {
     "ename": "TypeError",
     "evalue": "'NoneType' object is not iterable",
     "output_type": "error",
     "traceback": [
      "\u001b[1;31m---------------------------------------------------------------------------\u001b[0m",
      "\u001b[1;31mAttributeError\u001b[0m                            Traceback (most recent call last)",
      "\u001b[1;32mc:\\users\\hugo\\anaconda3\\lib\\site-packages\\openml-0.7.0-py3.5.egg\\openml\\runs\\functions.py\u001b[0m in \u001b[0;36m_run_model_on_fold\u001b[1;34m(model, task, rep_no, fold_no, sample_no, can_measure_runtime)\u001b[0m\n\u001b[0;32m    533\u001b[0m     \u001b[1;32mtry\u001b[0m\u001b[1;33m:\u001b[0m\u001b[1;33m\u001b[0m\u001b[0m\n\u001b[1;32m--> 534\u001b[1;33m         \u001b[0mProbaY\u001b[0m \u001b[1;33m=\u001b[0m \u001b[0mmodel\u001b[0m\u001b[1;33m.\u001b[0m\u001b[0mpredict_proba\u001b[0m\u001b[1;33m(\u001b[0m\u001b[0mtestX\u001b[0m\u001b[1;33m)\u001b[0m\u001b[1;33m\u001b[0m\u001b[0m\n\u001b[0m\u001b[0;32m    535\u001b[0m     \u001b[1;32mexcept\u001b[0m \u001b[0mAttributeError\u001b[0m\u001b[1;33m:\u001b[0m\u001b[1;33m\u001b[0m\u001b[0m\n",
      "\u001b[1;32mc:\\users\\hugo\\anaconda3\\lib\\site-packages\\sklearn\\utils\\metaestimators.py\u001b[0m in \u001b[0;36m__get__\u001b[1;34m(self, obj, type)\u001b[0m\n\u001b[0;32m    111\u001b[0m                 \u001b[1;32melse\u001b[0m\u001b[1;33m:\u001b[0m\u001b[1;33m\u001b[0m\u001b[0m\n\u001b[1;32m--> 112\u001b[1;33m                     \u001b[0mgetattr\u001b[0m\u001b[1;33m(\u001b[0m\u001b[0mdelegate\u001b[0m\u001b[1;33m,\u001b[0m \u001b[0mself\u001b[0m\u001b[1;33m.\u001b[0m\u001b[0mattribute_name\u001b[0m\u001b[1;33m)\u001b[0m\u001b[1;33m\u001b[0m\u001b[0m\n\u001b[0m\u001b[0;32m    113\u001b[0m                     \u001b[1;32mbreak\u001b[0m\u001b[1;33m\u001b[0m\u001b[0m\n",
      "\u001b[1;31mAttributeError\u001b[0m: 'DecisionTreeRegressor' object has no attribute 'predict_proba'",
      "\nDuring handling of the above exception, another exception occurred:\n",
      "\u001b[1;31mTypeError\u001b[0m                                 Traceback (most recent call last)",
      "\u001b[1;32m<ipython-input-10-d529954757c0>\u001b[0m in \u001b[0;36m<module>\u001b[1;34m\u001b[0m\n\u001b[0;32m      1\u001b[0m \u001b[1;32mfrom\u001b[0m \u001b[0mscripts\u001b[0m\u001b[1;33m.\u001b[0m\u001b[0mmachineLearningAlgorithms\u001b[0m \u001b[1;32mimport\u001b[0m \u001b[1;33m*\u001b[0m\u001b[1;33m\u001b[0m\u001b[0m\n\u001b[1;32m----> 2\u001b[1;33m \u001b[0mstrats\u001b[0m \u001b[1;33m=\u001b[0m \u001b[0mrunMachineLearningAlgorithms\u001b[0m\u001b[1;33m(\u001b[0m\u001b[0mdata\u001b[0m\u001b[1;33m,\u001b[0m \u001b[0mcomp\u001b[0m\u001b[1;33m,\u001b[0m \u001b[0mstrats\u001b[0m\u001b[1;33m,\u001b[0m \u001b[0mproblemType\u001b[0m\u001b[1;33m,\u001b[0m \u001b[0mtask\u001b[0m\u001b[1;33m,\u001b[0m \u001b[0mshowRuntimePrediction\u001b[0m\u001b[1;33m=\u001b[0m\u001b[1;32mFalse\u001b[0m\u001b[1;33m,\u001b[0m \u001b[0mrunTPOT\u001b[0m\u001b[1;33m=\u001b[0m\u001b[1;32mFalse\u001b[0m\u001b[1;33m,\u001b[0m \u001b[0mremoveOutliers\u001b[0m\u001b[1;33m=\u001b[0m\u001b[0mremoveOutliers\u001b[0m\u001b[1;33m)\u001b[0m\u001b[1;33m\u001b[0m\u001b[0m\n\u001b[0m\u001b[0;32m      3\u001b[0m \u001b[0mplot_alg\u001b[0m\u001b[1;33m(\u001b[0m\u001b[0mdata\u001b[0m\u001b[1;33m,\u001b[0m \u001b[0mstrats\u001b[0m\u001b[1;33m,\u001b[0m \u001b[0mmaxBaseline\u001b[0m\u001b[1;33m,\u001b[0m \u001b[0mproblemType\u001b[0m\u001b[1;33m)\u001b[0m\u001b[1;33m\u001b[0m\u001b[0m\n",
      "\u001b[1;32mH:\\MasterThesis\\auto-jupyter-notebook-master\\datasets\\scripts\\machineLearningAlgorithms.py\u001b[0m in \u001b[0;36mrunMachineLearningAlgorithms\u001b[1;34m(data, comp, strats, problemType, task, showRuntimePrediction, runTPOT, timeLimit, removeOutliers)\u001b[0m\n\u001b[0;32m     71\u001b[0m     \u001b[1;32mif\u001b[0m \u001b[0mproblemType\u001b[0m \u001b[1;33m==\u001b[0m \u001b[0mREGRESSION\u001b[0m\u001b[1;33m:\u001b[0m\u001b[1;33m\u001b[0m\u001b[0m\n\u001b[0;32m     72\u001b[0m         runMLAlgorithm(tree.DecisionTreeRegressor(criterion=\"mse\", max_depth=None, min_samples_leaf=1, max_features=None, max_leaf_nodes=None),\n\u001b[1;32m---> 73\u001b[1;33m                                 \"decision tree\", \"REPTree\", isTooLong(n**2 * p, comp), settings)\n\u001b[0m\u001b[0;32m     74\u001b[0m         runMLAlgorithm(LinearRegression(),\n\u001b[0;32m     75\u001b[0m                                 \"linear regression\", \"LinearRegression\", isTooLong(p**2 * n + p**3, comp), settings)\n",
      "\u001b[1;32mH:\\MasterThesis\\auto-jupyter-notebook-master\\datasets\\scripts\\machineLearningAlgorithms.py\u001b[0m in \u001b[0;36mrunMLAlgorithm\u001b[1;34m(estimator, name, RTPName, tooLong, settings)\u001b[0m\n\u001b[0;32m    248\u001b[0m         \u001b[0mflow\u001b[0m \u001b[1;33m=\u001b[0m \u001b[0mflows\u001b[0m\u001b[1;33m.\u001b[0m\u001b[0msklearn_to_flow\u001b[0m\u001b[1;33m(\u001b[0m\u001b[0mclf\u001b[0m\u001b[1;33m)\u001b[0m\u001b[1;33m\u001b[0m\u001b[0m\n\u001b[0;32m    249\u001b[0m         \u001b[1;32mtry\u001b[0m\u001b[1;33m:\u001b[0m\u001b[1;33m\u001b[0m\u001b[0m\n\u001b[1;32m--> 250\u001b[1;33m             \u001b[0mrun\u001b[0m \u001b[1;33m=\u001b[0m \u001b[0mruns\u001b[0m\u001b[1;33m.\u001b[0m\u001b[0mrun_flow_on_task\u001b[0m\u001b[1;33m(\u001b[0m\u001b[0msettings\u001b[0m\u001b[1;33m.\u001b[0m\u001b[0mtaskId\u001b[0m\u001b[1;33m,\u001b[0m \u001b[0mflow\u001b[0m\u001b[1;33m,\u001b[0m \u001b[0mavoid_duplicate_runs\u001b[0m \u001b[1;33m=\u001b[0m \u001b[1;32mTrue\u001b[0m\u001b[1;33m)\u001b[0m\u001b[1;33m\u001b[0m\u001b[0m\n\u001b[0m\u001b[0;32m    251\u001b[0m         \u001b[1;32mexcept\u001b[0m \u001b[0mPyOpenMLError\u001b[0m\u001b[1;33m:\u001b[0m\u001b[1;33m\u001b[0m\u001b[0m\n\u001b[0;32m    252\u001b[0m             \u001b[0mprint\u001b[0m\u001b[1;33m(\u001b[0m\u001b[1;34m\"Run already exists in OpenML, WIP\"\u001b[0m\u001b[1;33m)\u001b[0m\u001b[1;33m\u001b[0m\u001b[0m\n",
      "\u001b[1;32mc:\\users\\hugo\\anaconda3\\lib\\site-packages\\openml-0.7.0-py3.5.egg\\openml\\runs\\functions.py\u001b[0m in \u001b[0;36mrun_flow_on_task\u001b[1;34m(task, flow, avoid_duplicate_runs, flow_tags, seed)\u001b[0m\n\u001b[0;32m    101\u001b[0m \u001b[1;33m\u001b[0m\u001b[0m\n\u001b[0;32m    102\u001b[0m     \u001b[1;31m# execute the run\u001b[0m\u001b[1;33m\u001b[0m\u001b[1;33m\u001b[0m\u001b[0m\n\u001b[1;32m--> 103\u001b[1;33m     \u001b[0mres\u001b[0m \u001b[1;33m=\u001b[0m \u001b[0m_run_task_get_arffcontent\u001b[0m\u001b[1;33m(\u001b[0m\u001b[0mflow\u001b[0m\u001b[1;33m.\u001b[0m\u001b[0mmodel\u001b[0m\u001b[1;33m,\u001b[0m \u001b[0mtask\u001b[0m\u001b[1;33m)\u001b[0m\u001b[1;33m\u001b[0m\u001b[0m\n\u001b[0m\u001b[0;32m    104\u001b[0m \u001b[1;33m\u001b[0m\u001b[0m\n\u001b[0;32m    105\u001b[0m     \u001b[1;31m# in case the flow not exists, we will get a \"False\" back (which can be\u001b[0m\u001b[1;33m\u001b[0m\u001b[1;33m\u001b[0m\u001b[0m\n",
      "\u001b[1;32mc:\\users\\hugo\\anaconda3\\lib\\site-packages\\openml-0.7.0-py3.5.egg\\openml\\runs\\functions.py\u001b[0m in \u001b[0;36m_run_task_get_arffcontent\u001b[1;34m(model, task)\u001b[0m\n\u001b[0;32m    405\u001b[0m             \u001b[1;32mfor\u001b[0m \u001b[0msample_no\u001b[0m \u001b[1;32min\u001b[0m \u001b[0mrange\u001b[0m\u001b[1;33m(\u001b[0m\u001b[0mnum_samples\u001b[0m\u001b[1;33m)\u001b[0m\u001b[1;33m:\u001b[0m\u001b[1;33m\u001b[0m\u001b[0m\n\u001b[0;32m    406\u001b[0m                 \u001b[0mmodel_fold\u001b[0m \u001b[1;33m=\u001b[0m \u001b[0msklearn\u001b[0m\u001b[1;33m.\u001b[0m\u001b[0mbase\u001b[0m\u001b[1;33m.\u001b[0m\u001b[0mclone\u001b[0m\u001b[1;33m(\u001b[0m\u001b[0mmodel\u001b[0m\u001b[1;33m,\u001b[0m \u001b[0msafe\u001b[0m\u001b[1;33m=\u001b[0m\u001b[1;32mTrue\u001b[0m\u001b[1;33m)\u001b[0m\u001b[1;33m\u001b[0m\u001b[0m\n\u001b[1;32m--> 407\u001b[1;33m                 \u001b[0mres\u001b[0m \u001b[1;33m=\u001b[0m\u001b[0m_run_model_on_fold\u001b[0m\u001b[1;33m(\u001b[0m\u001b[0mmodel_fold\u001b[0m\u001b[1;33m,\u001b[0m \u001b[0mtask\u001b[0m\u001b[1;33m,\u001b[0m \u001b[0mrep_no\u001b[0m\u001b[1;33m,\u001b[0m \u001b[0mfold_no\u001b[0m\u001b[1;33m,\u001b[0m \u001b[0msample_no\u001b[0m\u001b[1;33m,\u001b[0m \u001b[0mcan_measure_runtime\u001b[0m\u001b[1;33m)\u001b[0m\u001b[1;33m\u001b[0m\u001b[0m\n\u001b[0m\u001b[0;32m    408\u001b[0m                 \u001b[0marff_datacontent_fold\u001b[0m\u001b[1;33m,\u001b[0m \u001b[0marff_tracecontent_fold\u001b[0m\u001b[1;33m,\u001b[0m \u001b[0muser_defined_measures_fold\u001b[0m\u001b[1;33m,\u001b[0m \u001b[0mmodel_fold\u001b[0m \u001b[1;33m=\u001b[0m \u001b[0mres\u001b[0m\u001b[1;33m\u001b[0m\u001b[0m\n\u001b[0;32m    409\u001b[0m \u001b[1;33m\u001b[0m\u001b[0m\n",
      "\u001b[1;32mc:\\users\\hugo\\anaconda3\\lib\\site-packages\\openml-0.7.0-py3.5.egg\\openml\\runs\\functions.py\u001b[0m in \u001b[0;36m_run_model_on_fold\u001b[1;34m(model, task, rep_no, fold_no, sample_no, can_measure_runtime)\u001b[0m\n\u001b[0;32m    534\u001b[0m         \u001b[0mProbaY\u001b[0m \u001b[1;33m=\u001b[0m \u001b[0mmodel\u001b[0m\u001b[1;33m.\u001b[0m\u001b[0mpredict_proba\u001b[0m\u001b[1;33m(\u001b[0m\u001b[0mtestX\u001b[0m\u001b[1;33m)\u001b[0m\u001b[1;33m\u001b[0m\u001b[0m\n\u001b[0;32m    535\u001b[0m     \u001b[1;32mexcept\u001b[0m \u001b[0mAttributeError\u001b[0m\u001b[1;33m:\u001b[0m\u001b[1;33m\u001b[0m\u001b[0m\n\u001b[1;32m--> 536\u001b[1;33m         \u001b[0mProbaY\u001b[0m \u001b[1;33m=\u001b[0m \u001b[0m_prediction_to_probabilities\u001b[0m\u001b[1;33m(\u001b[0m\u001b[0mPredY\u001b[0m\u001b[1;33m,\u001b[0m \u001b[0mlist\u001b[0m\u001b[1;33m(\u001b[0m\u001b[0mmodel_classes\u001b[0m\u001b[1;33m)\u001b[0m\u001b[1;33m)\u001b[0m\u001b[1;33m\u001b[0m\u001b[0m\n\u001b[0m\u001b[0;32m    537\u001b[0m \u001b[1;33m\u001b[0m\u001b[0m\n\u001b[0;32m    538\u001b[0m     \u001b[1;32mif\u001b[0m \u001b[0mcan_measure_runtime\u001b[0m\u001b[1;33m:\u001b[0m\u001b[1;33m\u001b[0m\u001b[0m\n",
      "\u001b[1;31mTypeError\u001b[0m: 'NoneType' object is not iterable"
     ]
    }
   ],
   "source": [
    "from scripts.machineLearningAlgorithms import *\n",
    "strats = runMachineLearningAlgorithms(data, comp, strats, problemType, task, showRuntimePrediction=False, runTPOT=False, removeOutliers=removeOutliers)\n",
    "plot_alg(data, strats, maxBaseline, problemType) "
   ]
  },
  {
   "cell_type": "code",
   "execution_count": null,
   "metadata": {},
   "outputs": [],
   "source": [
    "from scripts.relativePerformance import * \n",
    "showRelativePerformanceBoxplot(scores, topList, strats, maxBaseline) "
   ]
  }
 ],
 "metadata": {
  "kernelspec": {
   "display_name": "Python 3",
   "language": "python",
   "name": "python3"
  },
  "language_info": {
   "codemirror_mode": {
    "name": "ipython",
    "version": 3
   },
   "file_extension": ".py",
   "mimetype": "text/x-python",
   "name": "python",
   "nbconvert_exporter": "python",
   "pygments_lexer": "ipython3",
   "version": "3.5.5"
  }
 },
 "nbformat": 4,
 "nbformat_minor": 2
}
