{
 "cells": [
  {
   "cell_type": "markdown",
   "metadata": {},
   "source": [
    "    # Automatic Jupyter Notebook for OpenML dataset 50: tic-tac-toe"
   ]
  },
  {
   "cell_type": "code",
   "execution_count": 1,
   "metadata": {},
   "outputs": [
    {
     "name": "stderr",
     "output_type": "stream",
     "text": [
      "C:\\Users\\Hugo\\Anaconda3\\lib\\site-packages\\sklearn\\ensemble\\weight_boosting.py:29: DeprecationWarning: numpy.core.umath_tests is an internal NumPy module and should not be imported. It will be removed in a future NumPy release.\n",
      "  from numpy.core.umath_tests import inner1d\n"
     ]
    },
    {
     "name": "stdout",
     "output_type": "stream",
     "text": [
      "ExpatError, skipped run\n",
      "ExpatError, skipped run\n",
      "ExpatError, skipped run\n",
      "ExpatError, skipped run\n",
      "ExpatError, skipped run\n",
      "ExpatError, skipped run\n",
      "ExpatError, skipped run\n",
      "ExpatError, skipped run\n",
      "ExpatError, skipped run\n",
      "ExpatError, skipped run\n",
      "ExpatError, skipped run\n",
      "ExpatError, skipped run\n",
      "ExpatError, skipped run\n",
      "ExpatError, skipped run\n",
      "ExpatError, skipped run\n",
      "ExpatError, skipped run\n",
      "ExpatError, skipped run\n",
      "ExpatError, skipped run\n",
      "ExpatError, skipped run\n",
      "ExpatError, skipped run\n",
      "ExpatError, skipped run\n",
      "ExpatError, skipped run\n",
      "ExpatError, skipped run\n",
      "ExpatError, skipped run\n",
      "ExpatError, skipped run\n",
      "ExpatError, skipped run\n",
      "ExpatError, skipped run\n",
      "ExpatError, skipped run\n",
      "ExpatError, skipped run\n",
      "ExpatError, skipped run\n",
      "ExpatError, skipped run\n",
      "ExpatError, skipped run\n",
      "ExpatError, skipped run\n"
     ]
    },
    {
     "data": {
      "text/html": [
       "<div>\n",
       "<style scoped>\n",
       "    .dataframe tbody tr th:only-of-type {\n",
       "        vertical-align: middle;\n",
       "    }\n",
       "\n",
       "    .dataframe tbody tr th {\n",
       "        vertical-align: top;\n",
       "    }\n",
       "\n",
       "    .dataframe thead th {\n",
       "        text-align: right;\n",
       "    }\n",
       "</style>\n",
       "<table border=\"1\" class=\"dataframe\">\n",
       "  <thead>\n",
       "    <tr style=\"text-align: right;\">\n",
       "      <th></th>\n",
       "      <th>flow</th>\n",
       "      <th>score</th>\n",
       "    </tr>\n",
       "  </thead>\n",
       "  <tbody>\n",
       "    <tr>\n",
       "      <th>0</th>\n",
       "      <td>mlr.classif.svm(6)</td>\n",
       "      <td>1.0</td>\n",
       "    </tr>\n",
       "    <tr>\n",
       "      <th>1</th>\n",
       "      <td>mlr.classif.svm(6)</td>\n",
       "      <td>1.0</td>\n",
       "    </tr>\n",
       "    <tr>\n",
       "      <th>2</th>\n",
       "      <td>mlr.classif.svm(6)</td>\n",
       "      <td>1.0</td>\n",
       "    </tr>\n",
       "    <tr>\n",
       "      <th>3</th>\n",
       "      <td>mlr.classif.svm(6)</td>\n",
       "      <td>1.0</td>\n",
       "    </tr>\n",
       "    <tr>\n",
       "      <th>4</th>\n",
       "      <td>mlr.classif.svm(6)</td>\n",
       "      <td>1.0</td>\n",
       "    </tr>\n",
       "    <tr>\n",
       "      <th>5</th>\n",
       "      <td>mlr.classif.svm(6)</td>\n",
       "      <td>1.0</td>\n",
       "    </tr>\n",
       "    <tr>\n",
       "      <th>6</th>\n",
       "      <td>mlr.classif.svm(6)</td>\n",
       "      <td>1.0</td>\n",
       "    </tr>\n",
       "    <tr>\n",
       "      <th>7</th>\n",
       "      <td>mlr.classif.svm(6)</td>\n",
       "      <td>1.0</td>\n",
       "    </tr>\n",
       "    <tr>\n",
       "      <th>8</th>\n",
       "      <td>mlr.classif.svm(6)</td>\n",
       "      <td>1.0</td>\n",
       "    </tr>\n",
       "    <tr>\n",
       "      <th>9</th>\n",
       "      <td>mlr.classif.svm(6)</td>\n",
       "      <td>1.0</td>\n",
       "    </tr>\n",
       "  </tbody>\n",
       "</table>\n",
       "</div>"
      ],
      "text/plain": [
       "                 flow  score\n",
       "0  mlr.classif.svm(6)    1.0\n",
       "1  mlr.classif.svm(6)    1.0\n",
       "2  mlr.classif.svm(6)    1.0\n",
       "3  mlr.classif.svm(6)    1.0\n",
       "4  mlr.classif.svm(6)    1.0\n",
       "5  mlr.classif.svm(6)    1.0\n",
       "6  mlr.classif.svm(6)    1.0\n",
       "7  mlr.classif.svm(6)    1.0\n",
       "8  mlr.classif.svm(6)    1.0\n",
       "9  mlr.classif.svm(6)    1.0"
      ]
     },
     "execution_count": 1,
     "metadata": {},
     "output_type": "execute_result"
    }
   ],
   "source": [
    "from scripts.preamble import *\n",
    "did = 50\n",
    "data = oml.datasets.get_dataset(did)\n",
    "task, topList, strats = printTopNFlows(did, data.default_target_attribute, 10) \n",
    "topList "
   ]
  },
  {
   "cell_type": "code",
   "execution_count": 2,
   "metadata": {},
   "outputs": [
    {
     "name": "stdout",
     "output_type": "stream",
     "text": [
      "Problem type: supervised classification problem.\n",
      "Using correct task\n"
     ]
    }
   ],
   "source": [
    "from scripts.problemType import *\n",
    "problemType = findProblemType(data) \n",
    "checkTask(task, problemType, data.default_target_attribute) "
   ]
  },
  {
   "cell_type": "code",
   "execution_count": 3,
   "metadata": {},
   "outputs": [
    {
     "name": "stdout",
     "output_type": "stream",
     "text": [
      "     did                                               name  similarity  \\\n",
      "0    137                                   BNG(tic-tac-toe)       0.863   \n",
      "1    986                              analcatdata_marketing       0.741   \n",
      "2    991                                                car       0.741   \n",
      "3    956                        molecular-biology_promoters       0.740   \n",
      "4    953                                             splice       0.711   \n",
      "5  40646        GAMETES_Epistasis_2-Way_20atts_0.1H_EDM-1_1       0.699   \n",
      "6  40648        GAMETES_Epistasis_3-Way_20atts_0.2H_EDM-1_1       0.695   \n",
      "7    960                         postoperative-patient-data       0.691   \n",
      "8  40683                         postoperative-patient-data       0.690   \n",
      "9  40650  GAMETES_Heterogeneity_20atts_1600_Het_0.4_0.2_...       0.688   \n",
      "\n",
      "                              url  \n",
      "0    https://www.openml.org/d/137  \n",
      "1    https://www.openml.org/d/986  \n",
      "2    https://www.openml.org/d/991  \n",
      "3    https://www.openml.org/d/956  \n",
      "4    https://www.openml.org/d/953  \n",
      "5  https://www.openml.org/d/40646  \n",
      "6  https://www.openml.org/d/40648  \n",
      "7    https://www.openml.org/d/960  \n",
      "8  https://www.openml.org/d/40683  \n",
      "9  https://www.openml.org/d/40650  \n"
     ]
    }
   ],
   "source": [
    "from scripts.localDataOpenMLInterface import *\n",
    "showTopNSimilarDatasets(\"datasetSimilarityMatrixNormalized\", did, 10) "
   ]
  },
  {
   "cell_type": "markdown",
   "metadata": {},
   "source": [
    "Complexity threshold to determine if an algorithm will be run.\n"
   ]
  },
  {
   "cell_type": "code",
   "execution_count": 4,
   "metadata": {},
   "outputs": [],
   "source": [
    "comp = 50000000000000"
   ]
  },
  {
   "cell_type": "code",
   "execution_count": 5,
   "metadata": {},
   "outputs": [
    {
     "data": {
      "image/png": "[encoded data removed]",
      "text/plain": [
       "<matplotlib.figure.Figure at 0x1db55d207b8>"
      ]
     },
     "metadata": {},
     "output_type": "display_data"
    }
   ],
   "source": [
    "from scripts.featureImportance import *\n",
    "featureImportance(data) "
   ]
  },
  {
   "cell_type": "code",
   "execution_count": 6,
   "metadata": {},
   "outputs": [
    {
     "data": {
      "image/png": "[encoded data removed]",
      "text/plain": [
       "<matplotlib.figure.Figure at 0x1db02050b38>"
      ]
     },
     "metadata": {},
     "output_type": "display_data"
    }
   ],
   "source": [
    "from scripts.baselines import *\n",
    "maxBaseline = generateBaselines(data, problemType) "
   ]
  },
  {
   "cell_type": "code",
   "execution_count": 7,
   "metadata": {},
   "outputs": [
    {
     "name": "stderr",
     "output_type": "stream",
     "text": [
      "C:\\Users\\Hugo\\Anaconda3\\lib\\site-packages\\sklearn\\cross_validation.py:41: DeprecationWarning: This module was deprecated in version 0.18 in favor of the model_selection module into which all the refactored classes and functions are moved. Also note that the interface of the new CV iterators are different from that of this module. This module will be removed in 0.20.\n",
      "  \"This module will be removed in 0.20.\", DeprecationWarning)\n",
      "C:\\Users\\Hugo\\Anaconda3\\lib\\site-packages\\sklearn\\grid_search.py:42: DeprecationWarning: This module was deprecated in version 0.18 in favor of the model_selection module into which all the refactored classes and functions are moved. This module will be removed in 0.20.\n",
      "  DeprecationWarning)\n",
      "C:\\Users\\Hugo\\Anaconda3\\lib\\site-packages\\sklearn\\learning_curve.py:22: DeprecationWarning: This module was deprecated in version 0.18 in favor of the model_selection module into which all the functions are moved. This module will be removed in 0.20\n",
      "  DeprecationWarning)\n"
     ]
    },
    {
     "name": "stdout",
     "output_type": "stream",
     "text": [
      "ExpatError, skipped run\n",
      "ExpatError, skipped run\n",
      "ExpatError, skipped run\n",
      "ExpatError, skipped run\n",
      "ExpatError, skipped run\n"
     ]
    },
    {
     "data": {
      "image/png": "[encoded data removed]",
      "text/plain": [
       "<matplotlib.figure.Figure at 0x1db759f7ba8>"
      ]
     },
     "metadata": {},
     "output_type": "display_data"
    }
   ],
   "source": [
    "from scripts.machineLearningAlgorithms import *\n",
    "strats = runMachineLearningAlgorithms(data, comp, strats, problemType, task, showRuntimePrediction=True, runTPOT=False)\n",
    "plot_alg(data, strats, maxBaseline, problemType) "
   ]
  }
 ],
 "metadata": {
  "kernelspec": {
   "display_name": "Python 3",
   "language": "python",
   "name": "python3"
  },
  "language_info": {
   "codemirror_mode": {
    "name": "ipython",
    "version": 3
   },
   "file_extension": ".py",
   "mimetype": "text/x-python",
   "name": "python",
   "nbconvert_exporter": "python",
   "pygments_lexer": "ipython3",
   "version": "3.5.5"
  }
 },
 "nbformat": 4,
 "nbformat_minor": 2
}
