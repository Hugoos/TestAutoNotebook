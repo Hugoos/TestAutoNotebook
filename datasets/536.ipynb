{
 "cells": [
  {
   "cell_type": "markdown",
   "metadata": {},
   "source": [
    "    # Automatic Jupyter Notebook for OpenML dataset 536: arsenic-male-lung"
   ]
  },
  {
   "cell_type": "code",
   "execution_count": 1,
   "metadata": {},
   "outputs": [
    {
     "name": "stdout",
     "output_type": "stream",
     "text": [
      "No compatible runs found\n"
     ]
    },
    {
     "data": {
      "text/html": [
       "<div>\n",
       "<style scoped>\n",
       "    .dataframe tbody tr th:only-of-type {\n",
       "        vertical-align: middle;\n",
       "    }\n",
       "\n",
       "    .dataframe tbody tr th {\n",
       "        vertical-align: top;\n",
       "    }\n",
       "\n",
       "    .dataframe thead th {\n",
       "        text-align: right;\n",
       "    }\n",
       "</style>\n",
       "<table border=\"1\" class=\"dataframe\">\n",
       "  <thead>\n",
       "    <tr style=\"text-align: right;\">\n",
       "      <th></th>\n",
       "    </tr>\n",
       "  </thead>\n",
       "  <tbody>\n",
       "  </tbody>\n",
       "</table>\n",
       "</div>"
      ],
      "text/plain": [
       "Empty DataFrame\n",
       "Columns: []\n",
       "Index: []"
      ]
     },
     "execution_count": 1,
     "metadata": {},
     "output_type": "execute_result"
    }
   ],
   "source": [
    "%matplotlib inline\n",
    "from scripts.preamble import *\n",
    "did = 536\n",
    "data = oml.datasets.get_dataset(did)\n",
    "X, y, features = getData(data)\n",
    "task, topList, strats, scores = getOpenMLData(did, data.default_target_attribute) \n",
    "topList[:10] "
   ]
  },
  {
   "cell_type": "code",
   "execution_count": 2,
   "metadata": {},
   "outputs": [
    {
     "name": "stdout",
     "output_type": "stream",
     "text": [
      "Problem type: supervised classification problem.\n",
      "Task does not match standard target\n"
     ]
    }
   ],
   "source": [
    "from scripts.problemType import *\n",
    "problemType = findProblemType(data) \n",
    "checkTask(task, problemType, data.default_target_attribute) "
   ]
  },
  {
   "cell_type": "code",
   "execution_count": 3,
   "metadata": {},
   "outputs": [
    {
     "data": {
      "image/png": "[encoded data removed]",
      "text/plain": [
       "<Figure size 1152x648 with 6 Axes>"
      ]
     },
     "metadata": {
      "needs_background": "light"
     },
     "output_type": "display_data"
    }
   ],
   "source": [
    "from scripts.dataVisualization import *\n",
    "show1DHist(data) "
   ]
  },
  {
   "cell_type": "code",
   "execution_count": 4,
   "metadata": {},
   "outputs": [
    {
     "data": {
      "text/html": [
       "<style  type=\"text/css\" >\n",
       "    #T_9e08b3a6_3ab3_11e9_a6a3_6245b4ebbdcfrow0_col4 {\n",
       "            background-color:  #ff0000;\n",
       "        }    #T_9e08b3a6_3ab3_11e9_a6a3_6245b4ebbdcfrow1_col4 {\n",
       "            background-color:  #ff3f3f;\n",
       "        }    #T_9e08b3a6_3ab3_11e9_a6a3_6245b4ebbdcfrow2_col0 {\n",
       "            background-color:  yellow;\n",
       "        }    #T_9e08b3a6_3ab3_11e9_a6a3_6245b4ebbdcfrow2_col1 {\n",
       "            background-color:  yellow;\n",
       "        }    #T_9e08b3a6_3ab3_11e9_a6a3_6245b4ebbdcfrow2_col4 {\n",
       "            background-color:  #ff8b8b;\n",
       "        }    #T_9e08b3a6_3ab3_11e9_a6a3_6245b4ebbdcfrow3_col4 {\n",
       "            background-color:  #ff8f8f;\n",
       "        }    #T_9e08b3a6_3ab3_11e9_a6a3_6245b4ebbdcfrow4_col0 {\n",
       "            background-color:  yellow;\n",
       "        }    #T_9e08b3a6_3ab3_11e9_a6a3_6245b4ebbdcfrow4_col1 {\n",
       "            background-color:  yellow;\n",
       "        }    #T_9e08b3a6_3ab3_11e9_a6a3_6245b4ebbdcfrow4_col4 {\n",
       "            background-color:  #ffbdbd;\n",
       "        }    #T_9e08b3a6_3ab3_11e9_a6a3_6245b4ebbdcfrow5_col4 {\n",
       "            background-color:  #ffc4c4;\n",
       "        }    #T_9e08b3a6_3ab3_11e9_a6a3_6245b4ebbdcfrow6_col4 {\n",
       "            background-color:  #ffd1d1;\n",
       "        }    #T_9e08b3a6_3ab3_11e9_a6a3_6245b4ebbdcfrow7_col4 {\n",
       "            background-color:  #ffd3d3;\n",
       "        }    #T_9e08b3a6_3ab3_11e9_a6a3_6245b4ebbdcfrow8_col4 {\n",
       "            background-color:  #ffd6d6;\n",
       "        }    #T_9e08b3a6_3ab3_11e9_a6a3_6245b4ebbdcfrow9_col4 {\n",
       "            background-color:  #ffe5e5;\n",
       "        }</style>  \n",
       "<table id=\"T_9e08b3a6_3ab3_11e9_a6a3_6245b4ebbdcf\" > \n",
       "<thead>    <tr> \n",
       "        <th class=\"blank level0\" ></th> \n",
       "        <th class=\"col_heading level0 col0\" >group</th> \n",
       "        <th class=\"col_heading level0 col1\" >conc</th> \n",
       "        <th class=\"col_heading level0 col2\" >age</th> \n",
       "        <th class=\"col_heading level0 col3\" >at.risk</th> \n",
       "        <th class=\"col_heading level0 col4\" >outlier</th> \n",
       "    </tr></thead> \n",
       "<tbody>    <tr> \n",
       "        <th id=\"T_9e08b3a6_3ab3_11e9_a6a3_6245b4ebbdcflevel0_row0\" class=\"row_heading level0 row0\" >0</th> \n",
       "        <td id=\"T_9e08b3a6_3ab3_11e9_a6a3_6245b4ebbdcfrow0_col0\" class=\"data row0 col0\" >0</td> \n",
       "        <td id=\"T_9e08b3a6_3ab3_11e9_a6a3_6245b4ebbdcfrow0_col1\" class=\"data row0 col1\" >0</td> \n",
       "        <td id=\"T_9e08b3a6_3ab3_11e9_a6a3_6245b4ebbdcfrow0_col2\" class=\"data row0 col2\" >22.5</td> \n",
       "        <td id=\"T_9e08b3a6_3ab3_11e9_a6a3_6245b4ebbdcfrow0_col3\" class=\"data row0 col3\" >2.95664e+06</td> \n",
       "        <td id=\"T_9e08b3a6_3ab3_11e9_a6a3_6245b4ebbdcfrow0_col4\" class=\"data row0 col4\" >-0.208584</td> \n",
       "    </tr>    <tr> \n",
       "        <th id=\"T_9e08b3a6_3ab3_11e9_a6a3_6245b4ebbdcflevel0_row1\" class=\"row_heading level0 row1\" >1</th> \n",
       "        <td id=\"T_9e08b3a6_3ab3_11e9_a6a3_6245b4ebbdcfrow1_col0\" class=\"data row1 col0\" >0</td> \n",
       "        <td id=\"T_9e08b3a6_3ab3_11e9_a6a3_6245b4ebbdcfrow1_col1\" class=\"data row1 col1\" >0</td> \n",
       "        <td id=\"T_9e08b3a6_3ab3_11e9_a6a3_6245b4ebbdcfrow1_col2\" class=\"data row1 col2\" >27.5</td> \n",
       "        <td id=\"T_9e08b3a6_3ab3_11e9_a6a3_6245b4ebbdcfrow1_col3\" class=\"data row1 col3\" >2.17505e+06</td> \n",
       "        <td id=\"T_9e08b3a6_3ab3_11e9_a6a3_6245b4ebbdcfrow1_col4\" class=\"data row1 col4\" >-0.183135</td> \n",
       "    </tr>    <tr> \n",
       "        <th id=\"T_9e08b3a6_3ab3_11e9_a6a3_6245b4ebbdcflevel0_row2\" class=\"row_heading level0 row2\" >546</th> \n",
       "        <td id=\"T_9e08b3a6_3ab3_11e9_a6a3_6245b4ebbdcfrow2_col0\" class=\"data row2 col0\" >42</td> \n",
       "        <td id=\"T_9e08b3a6_3ab3_11e9_a6a3_6245b4ebbdcfrow2_col1\" class=\"data row2 col1\" >934</td> \n",
       "        <td id=\"T_9e08b3a6_3ab3_11e9_a6a3_6245b4ebbdcfrow2_col2\" class=\"data row2 col2\" >22.5</td> \n",
       "        <td id=\"T_9e08b3a6_3ab3_11e9_a6a3_6245b4ebbdcfrow2_col3\" class=\"data row2 col3\" >2085</td> \n",
       "        <td id=\"T_9e08b3a6_3ab3_11e9_a6a3_6245b4ebbdcfrow2_col4\" class=\"data row2 col4\" >-0.153073</td> \n",
       "    </tr>    <tr> \n",
       "        <th id=\"T_9e08b3a6_3ab3_11e9_a6a3_6245b4ebbdcflevel0_row3\" class=\"row_heading level0 row3\" >2</th> \n",
       "        <td id=\"T_9e08b3a6_3ab3_11e9_a6a3_6245b4ebbdcfrow3_col0\" class=\"data row3 col0\" >0</td> \n",
       "        <td id=\"T_9e08b3a6_3ab3_11e9_a6a3_6245b4ebbdcfrow3_col1\" class=\"data row3 col1\" >0</td> \n",
       "        <td id=\"T_9e08b3a6_3ab3_11e9_a6a3_6245b4ebbdcfrow3_col2\" class=\"data row3 col2\" >32.5</td> \n",
       "        <td id=\"T_9e08b3a6_3ab3_11e9_a6a3_6245b4ebbdcfrow3_col3\" class=\"data row3 col3\" >1.58002e+06</td> \n",
       "        <td id=\"T_9e08b3a6_3ab3_11e9_a6a3_6245b4ebbdcfrow3_col4\" class=\"data row3 col4\" >-0.151303</td> \n",
       "    </tr>    <tr> \n",
       "        <th id=\"T_9e08b3a6_3ab3_11e9_a6a3_6245b4ebbdcflevel0_row4\" class=\"row_heading level0 row4\" >558</th> \n",
       "        <td id=\"T_9e08b3a6_3ab3_11e9_a6a3_6245b4ebbdcfrow4_col0\" class=\"data row4 col0\" >42</td> \n",
       "        <td id=\"T_9e08b3a6_3ab3_11e9_a6a3_6245b4ebbdcfrow4_col1\" class=\"data row4 col1\" >934</td> \n",
       "        <td id=\"T_9e08b3a6_3ab3_11e9_a6a3_6245b4ebbdcfrow4_col2\" class=\"data row4 col2\" >82.5</td> \n",
       "        <td id=\"T_9e08b3a6_3ab3_11e9_a6a3_6245b4ebbdcfrow4_col3\" class=\"data row4 col3\" >41</td> \n",
       "        <td id=\"T_9e08b3a6_3ab3_11e9_a6a3_6245b4ebbdcfrow4_col4\" class=\"data row4 col4\" >-0.132973</td> \n",
       "    </tr>    <tr> \n",
       "        <th id=\"T_9e08b3a6_3ab3_11e9_a6a3_6245b4ebbdcflevel0_row5\" class=\"row_heading level0 row5\" >3</th> \n",
       "        <td id=\"T_9e08b3a6_3ab3_11e9_a6a3_6245b4ebbdcfrow5_col0\" class=\"data row5 col0\" >0</td> \n",
       "        <td id=\"T_9e08b3a6_3ab3_11e9_a6a3_6245b4ebbdcfrow5_col1\" class=\"data row5 col1\" >0</td> \n",
       "        <td id=\"T_9e08b3a6_3ab3_11e9_a6a3_6245b4ebbdcfrow5_col2\" class=\"data row5 col2\" >37.5</td> \n",
       "        <td id=\"T_9e08b3a6_3ab3_11e9_a6a3_6245b4ebbdcfrow5_col3\" class=\"data row5 col3\" >1.32064e+06</td> \n",
       "        <td id=\"T_9e08b3a6_3ab3_11e9_a6a3_6245b4ebbdcfrow5_col4\" class=\"data row5 col4\" >-0.130147</td> \n",
       "    </tr>    <tr> \n",
       "        <th id=\"T_9e08b3a6_3ab3_11e9_a6a3_6245b4ebbdcflevel0_row6\" class=\"row_heading level0 row6\" >4</th> \n",
       "        <td id=\"T_9e08b3a6_3ab3_11e9_a6a3_6245b4ebbdcfrow6_col0\" class=\"data row6 col0\" >0</td> \n",
       "        <td id=\"T_9e08b3a6_3ab3_11e9_a6a3_6245b4ebbdcfrow6_col1\" class=\"data row6 col1\" >0</td> \n",
       "        <td id=\"T_9e08b3a6_3ab3_11e9_a6a3_6245b4ebbdcfrow6_col2\" class=\"data row6 col2\" >42.5</td> \n",
       "        <td id=\"T_9e08b3a6_3ab3_11e9_a6a3_6245b4ebbdcfrow6_col3\" class=\"data row6 col3\" >1.32787e+06</td> \n",
       "        <td id=\"T_9e08b3a6_3ab3_11e9_a6a3_6245b4ebbdcfrow6_col4\" class=\"data row6 col4\" >-0.125246</td> \n",
       "    </tr>    <tr> \n",
       "        <th id=\"T_9e08b3a6_3ab3_11e9_a6a3_6245b4ebbdcflevel0_row7\" class=\"row_heading level0 row7\" >5</th> \n",
       "        <td id=\"T_9e08b3a6_3ab3_11e9_a6a3_6245b4ebbdcfrow7_col0\" class=\"data row7 col0\" >0</td> \n",
       "        <td id=\"T_9e08b3a6_3ab3_11e9_a6a3_6245b4ebbdcfrow7_col1\" class=\"data row7 col1\" >0</td> \n",
       "        <td id=\"T_9e08b3a6_3ab3_11e9_a6a3_6245b4ebbdcfrow7_col2\" class=\"data row7 col2\" >47.5</td> \n",
       "        <td id=\"T_9e08b3a6_3ab3_11e9_a6a3_6245b4ebbdcfrow7_col3\" class=\"data row7 col3\" >1.33477e+06</td> \n",
       "        <td id=\"T_9e08b3a6_3ab3_11e9_a6a3_6245b4ebbdcfrow7_col4\" class=\"data row7 col4\" >-0.123932</td> \n",
       "    </tr>    <tr> \n",
       "        <th id=\"T_9e08b3a6_3ab3_11e9_a6a3_6245b4ebbdcflevel0_row8\" class=\"row_heading level0 row8\" >6</th> \n",
       "        <td id=\"T_9e08b3a6_3ab3_11e9_a6a3_6245b4ebbdcfrow8_col0\" class=\"data row8 col0\" >0</td> \n",
       "        <td id=\"T_9e08b3a6_3ab3_11e9_a6a3_6245b4ebbdcfrow8_col1\" class=\"data row8 col1\" >0</td> \n",
       "        <td id=\"T_9e08b3a6_3ab3_11e9_a6a3_6245b4ebbdcfrow8_col2\" class=\"data row8 col2\" >52.5</td> \n",
       "        <td id=\"T_9e08b3a6_3ab3_11e9_a6a3_6245b4ebbdcfrow8_col3\" class=\"data row8 col3\" >1.21444e+06</td> \n",
       "        <td id=\"T_9e08b3a6_3ab3_11e9_a6a3_6245b4ebbdcfrow8_col4\" class=\"data row8 col4\" >-0.123099</td> \n",
       "    </tr>    <tr> \n",
       "        <th id=\"T_9e08b3a6_3ab3_11e9_a6a3_6245b4ebbdcflevel0_row9\" class=\"row_heading level0 row9\" >7</th> \n",
       "        <td id=\"T_9e08b3a6_3ab3_11e9_a6a3_6245b4ebbdcfrow9_col0\" class=\"data row9 col0\" >0</td> \n",
       "        <td id=\"T_9e08b3a6_3ab3_11e9_a6a3_6245b4ebbdcfrow9_col1\" class=\"data row9 col1\" >0</td> \n",
       "        <td id=\"T_9e08b3a6_3ab3_11e9_a6a3_6245b4ebbdcfrow9_col2\" class=\"data row9 col2\" >57.5</td> \n",
       "        <td id=\"T_9e08b3a6_3ab3_11e9_a6a3_6245b4ebbdcfrow9_col3\" class=\"data row9 col3\" >977820</td> \n",
       "        <td id=\"T_9e08b3a6_3ab3_11e9_a6a3_6245b4ebbdcfrow9_col4\" class=\"data row9 col4\" >-0.116675</td> \n",
       "    </tr></tbody> \n",
       "</table> "
      ],
      "text/plain": [
       "<pandas.io.formats.style.Styler at 0x26cb47dcb70>"
      ]
     },
     "execution_count": 4,
     "metadata": {},
     "output_type": "execute_result"
    },
    {
     "data": {
      "image/png": "[encoded data removed]",
      "text/plain": [
       "<Figure size 1152x648 with 1 Axes>"
      ]
     },
     "metadata": {
      "needs_background": "light"
     },
     "output_type": "display_data"
    }
   ],
   "source": [
    "from scripts.outlierDetection import *\n",
    "outlierDetection(X, features, 10) "
   ]
  },
  {
   "cell_type": "code",
   "execution_count": 5,
   "metadata": {},
   "outputs": [
    {
     "name": "stdout",
     "output_type": "stream",
     "text": [
      "    did             name  similarity                            url\n",
      "0  1068              pc1       0.729  https://www.openml.org/d/1068\n",
      "1  3109   QSAR-TID-10227       0.570  https://www.openml.org/d/3109\n",
      "2  3263  QSAR-TID-100817       0.570  https://www.openml.org/d/3263\n",
      "3  3494   QSAR-TID-11831       0.570  https://www.openml.org/d/3494\n",
      "4  3521   QSAR-TID-10226       0.570  https://www.openml.org/d/3521\n",
      "5  3582   QSAR-TID-10004       0.570  https://www.openml.org/d/3582\n",
      "6  3186  QSAR-TID-100120       0.569  https://www.openml.org/d/3186\n",
      "7  3418   QSAR-TID-11249       0.569  https://www.openml.org/d/3418\n",
      "8  3550   QSAR-TID-11005       0.569  https://www.openml.org/d/3550\n",
      "9  3453   QSAR-TID-10657       0.568  https://www.openml.org/d/3453\n"
     ]
    }
   ],
   "source": [
    "from scripts.localDataOpenMLInterface import *\n",
    "showTopNSimilarDatasets(\"datasetSimilarityMatrixNormalized\", did, 10) "
   ]
  },
  {
   "cell_type": "markdown",
   "metadata": {},
   "source": [
    "Complexity threshold to determine if an algorithm will be run.\n"
   ]
  },
  {
   "cell_type": "code",
   "execution_count": 6,
   "metadata": {},
   "outputs": [],
   "source": [
    "comp = 50000000000000"
   ]
  },
  {
   "cell_type": "code",
   "execution_count": 7,
   "metadata": {},
   "outputs": [
    {
     "data": {
      "image/png": "[encoded data removed]",
      "text/plain": [
       "<Figure size 432x288 with 1 Axes>"
      ]
     },
     "metadata": {
      "needs_background": "light"
     },
     "output_type": "display_data"
    }
   ],
   "source": [
    "from scripts.featureImportance import *\n",
    "featureImportance(data) "
   ]
  },
  {
   "cell_type": "code",
   "execution_count": 8,
   "metadata": {},
   "outputs": [
    {
     "data": {
      "image/png": "[encoded data removed]",
      "text/plain": [
       "<Figure size 432x288 with 1 Axes>"
      ]
     },
     "metadata": {
      "needs_background": "light"
     },
     "output_type": "display_data"
    }
   ],
   "source": [
    "from scripts.baselines import *\n",
    "maxBaseline = generateBaselines(data, problemType) "
   ]
  },
  {
   "cell_type": "markdown",
   "metadata": {},
   "source": [
    "Please run the full notebook then toggle removeOutliers and run this cell and the next to compare the algorithms with and without outliers. "
   ]
  },
  {
   "cell_type": "code",
   "execution_count": 9,
   "metadata": {},
   "outputs": [],
   "source": [
    "removeOutliers = False "
   ]
  },
  {
   "cell_type": "code",
   "execution_count": 10,
   "metadata": {},
   "outputs": [
    {
     "name": "stderr",
     "output_type": "stream",
     "text": [
      "c:\\users\\hugo\\anaconda3\\lib\\site-packages\\deap\\tools\\_hypervolume\\pyhv.py:33: ImportWarning: Falling back to the python version of hypervolume module. Expect this to be very slow.\n",
      "  \"module. Expect this to be very slow.\", ImportWarning)\n",
      "c:\\users\\hugo\\anaconda3\\lib\\site-packages\\openml-0.7.0-py3.5.egg\\openml\\runs\\functions.py:544: UserWarning: Repeat 0 Fold 0: estimator only predicted for 17/7 classes!\n",
      "  warnings.warn(\"Repeat %d Fold %d: estimator only predicted for %d/%d classes!\" % (rep_no, fold_no, ProbaY.shape[1], len(task.class_labels)))\n"
     ]
    },
    {
     "name": "stdout",
     "output_type": "stream",
     "text": [
      "An unexpected error occured\n"
     ]
    },
    {
     "name": "stderr",
     "output_type": "stream",
     "text": [
      "c:\\users\\hugo\\anaconda3\\lib\\site-packages\\openml-0.7.0-py3.5.egg\\openml\\runs\\functions.py:544: UserWarning: Repeat 0 Fold 0: estimator only predicted for 17/7 classes!\n",
      "  warnings.warn(\"Repeat %d Fold %d: estimator only predicted for %d/%d classes!\" % (rep_no, fold_no, ProbaY.shape[1], len(task.class_labels)))\n"
     ]
    },
    {
     "name": "stdout",
     "output_type": "stream",
     "text": [
      "An unexpected error occured\n"
     ]
    },
    {
     "name": "stderr",
     "output_type": "stream",
     "text": [
      "c:\\users\\hugo\\anaconda3\\lib\\site-packages\\openml-0.7.0-py3.5.egg\\openml\\runs\\functions.py:544: UserWarning: Repeat 0 Fold 0: estimator only predicted for 17/7 classes!\n",
      "  warnings.warn(\"Repeat %d Fold %d: estimator only predicted for %d/%d classes!\" % (rep_no, fold_no, ProbaY.shape[1], len(task.class_labels)))\n"
     ]
    },
    {
     "name": "stdout",
     "output_type": "stream",
     "text": [
      "An unexpected error occured\n"
     ]
    },
    {
     "name": "stderr",
     "output_type": "stream",
     "text": [
      "c:\\users\\hugo\\anaconda3\\lib\\site-packages\\openml-0.7.0-py3.5.egg\\openml\\runs\\functions.py:544: UserWarning: Repeat 0 Fold 0: estimator only predicted for 17/7 classes!\n",
      "  warnings.warn(\"Repeat %d Fold %d: estimator only predicted for %d/%d classes!\" % (rep_no, fold_no, ProbaY.shape[1], len(task.class_labels)))\n"
     ]
    },
    {
     "name": "stdout",
     "output_type": "stream",
     "text": [
      "An unexpected error occured\n"
     ]
    },
    {
     "name": "stderr",
     "output_type": "stream",
     "text": [
      "c:\\users\\hugo\\anaconda3\\lib\\site-packages\\openml-0.7.0-py3.5.egg\\openml\\runs\\functions.py:544: UserWarning: Repeat 0 Fold 0: estimator only predicted for 17/7 classes!\n",
      "  warnings.warn(\"Repeat %d Fold %d: estimator only predicted for %d/%d classes!\" % (rep_no, fold_no, ProbaY.shape[1], len(task.class_labels)))\n"
     ]
    },
    {
     "name": "stdout",
     "output_type": "stream",
     "text": [
      "An unexpected error occured\n",
      "cannot plot the algorithms\n"
     ]
    },
    {
     "data": {
      "image/png": "[encoded data removed]",
      "text/plain": [
       "<Figure size 1152x648 with 1 Axes>"
      ]
     },
     "metadata": {
      "needs_background": "light"
     },
     "output_type": "display_data"
    }
   ],
   "source": [
    "from scripts.machineLearningAlgorithms import *\n",
    "settings = runMachineLearningAlgorithms(data, comp, strats, problemType, task, showRuntimePrediction=False, runTPOT=False, removeOutliers=removeOutliers)\n",
    "plot_alg(data, settings.strats, maxBaseline, problemType) "
   ]
  },
  {
   "cell_type": "code",
   "execution_count": 11,
   "metadata": {},
   "outputs": [
    {
     "name": "stderr",
     "output_type": "stream",
     "text": [
      "c:\\users\\hugo\\anaconda3\\lib\\site-packages\\sklearn\\discriminant_analysis.py:692: UserWarning: Variables are collinear\n",
      "  warnings.warn(\"Variables are collinear\")\n"
     ]
    },
    {
     "name": "stdout",
     "output_type": "stream",
     "text": [
      "An unexpected error occured\n",
      "cannot plot the algorithms\n"
     ]
    },
    {
     "data": {
      "image/png": "[encoded data removed]",
      "text/plain": [
       "<Figure size 1152x648 with 1 Axes>"
      ]
     },
     "metadata": {
      "needs_background": "light"
     },
     "output_type": "display_data"
    }
   ],
   "source": [
    "from sklearn.discriminant_analysis import QuadraticDiscriminantAnalysis\n",
    "\n",
    "#Create a custom algorithm by setting classifier and name\n",
    "#---------------------------------------------------\n",
    "clf =  QuadraticDiscriminantAnalysis()\n",
    "name = \"CustomAlgorithmQuadraticDiscriminantAnalysis\"\n",
    "#---------------------------------------------------\n",
    "runMLAlgorithm(estimator=clf, name=name, settings=settings)\n",
    "plot_alg(data, settings.strats, maxBaseline, problemType) "
   ]
  },
  {
   "cell_type": "code",
   "execution_count": 12,
   "metadata": {},
   "outputs": [],
   "source": [
    "from scripts.relativePerformance import * \n",
    "showRelativePerformanceBoxplot(scores, topList, settings.strats, maxBaseline) "
   ]
  }
 ],
 "metadata": {
  "language_info": {
   "codemirror_mode": {
    "name": "ipython",
    "version": 3
   },
   "file_extension": ".py",
   "mimetype": "text/x-python",
   "name": "python",
   "nbconvert_exporter": "python",
   "pygments_lexer": "ipython3",
   "version": "3.5.5"
  }
 },
 "nbformat": 4,
 "nbformat_minor": 2
}
