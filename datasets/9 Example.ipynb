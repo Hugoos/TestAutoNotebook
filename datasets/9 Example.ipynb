{
 "cells": [
  {
   "cell_type": "markdown",
   "metadata": {},
   "source": [
    "    # Automatic Jupyter Notebook for OpenML dataset 9: autos"
   ]
  },
  {
   "cell_type": "markdown",
   "metadata": {},
   "source": [
    "To properly show several of the elements of this notebook please run this entire notebook again."
   ]
  },
  {
   "cell_type": "markdown",
   "metadata": {},
   "source": [
    "These are the top 10 flows for this dataset available on OpenML."
   ]
  },
  {
   "cell_type": "code",
   "execution_count": null,
   "metadata": {},
   "outputs": [],
   "source": [
    "%matplotlib inline\n",
    "from scripts.preamble import *\n",
    "did = 9\n",
    "data = oml.datasets.get_dataset(did)\n",
    "X, y, features = getData(data)\n",
    "task, topList, strats, scores = getOpenMLData(did, data.default_target_attribute) \n",
    "topList[:10] "
   ]
  },
  {
   "cell_type": "markdown",
   "metadata": {},
   "source": [
    "Here we determine the problem type and verify whether or not we have automatically selected the correct main task."
   ]
  },
  {
   "cell_type": "code",
   "execution_count": null,
   "metadata": {},
   "outputs": [],
   "source": [
    "from scripts.problemType import *\n",
    "problemType = findProblemType(data) \n",
    "checkTask(task, problemType, data.default_target_attribute) "
   ]
  },
  {
   "cell_type": "markdown",
   "metadata": {},
   "source": [
    "These plots show histograms for each of the features of this dataset."
   ]
  },
  {
   "cell_type": "code",
   "execution_count": null,
   "metadata": {},
   "outputs": [],
   "source": [
    "%matplotlib inline\n",
    "from scripts.dataVisualization import *\n",
    "show1DHist(data) "
   ]
  },
  {
   "cell_type": "markdown",
   "metadata": {},
   "source": [
    "The first plot is a plot of normalized boxplots for each of the features and the second plot is a styled dataframe sorted by anomaly score, yellow denotes outlier values and a heatmap is included for the anomaly scores."
   ]
  },
  {
   "cell_type": "code",
   "execution_count": null,
   "metadata": {},
   "outputs": [],
   "source": [
    "%matplotlib inline\n",
    "from scripts.outlierDetection import *\n",
    "outlierDetection(X, features, 10) "
   ]
  },
  {
   "cell_type": "markdown",
   "metadata": {},
   "source": [
    "These are the top 10 similar datasets based on the cosine similarity between their standardized property vectors."
   ]
  },
  {
   "cell_type": "code",
   "execution_count": null,
   "metadata": {},
   "outputs": [],
   "source": [
    "from scripts.localDataOpenMLInterface import *\n",
    "showTopNSimilarDatasets(\"datasetSimilarityMatrixNormalized\", did, 10) "
   ]
  },
  {
   "cell_type": "markdown",
   "metadata": {},
   "source": [
    "Complexity threshold to determine if an algorithm will be run.\n"
   ]
  },
  {
   "cell_type": "code",
   "execution_count": null,
   "metadata": {},
   "outputs": [],
   "source": [
    "comp = 50000000000000"
   ]
  },
  {
   "cell_type": "markdown",
   "metadata": {},
   "source": [
    "This plot shows the feature importance of each of the features."
   ]
  },
  {
   "cell_type": "code",
   "execution_count": null,
   "metadata": {},
   "outputs": [],
   "source": [
    "%matplotlib inline\n",
    "from scripts.featureImportance import *\n",
    "featureImportance(data) "
   ]
  },
  {
   "cell_type": "markdown",
   "metadata": {},
   "source": [
    "This plot shows the baseline performance on this dataset, from this point onwards the red dotted line will denote the maximum baseline threshold."
   ]
  },
  {
   "cell_type": "code",
   "execution_count": null,
   "metadata": {},
   "outputs": [],
   "source": [
    "%matplotlib inline\n",
    "from scripts.baselines import *\n",
    "maxBaseline = generateBaselines(data, problemType) "
   ]
  },
  {
   "cell_type": "markdown",
   "metadata": {},
   "source": [
    "Please run the full notebook then toggle removeOutliers and run this cell and the next to compare the algorithms with and without outliers. "
   ]
  },
  {
   "cell_type": "code",
   "execution_count": null,
   "metadata": {},
   "outputs": [],
   "source": [
    "removeOutliers = False "
   ]
  },
  {
   "cell_type": "markdown",
   "metadata": {},
   "source": [
    "This plot shows algorithm performance for every algorithm that is run in this notebook. A red bar denotes that the algorithm performs worse than the baseline. A green bar denotes that the algorithm performs better than the baseline and a purple bar is only shown when removing outliers and denotes whether the original or algorithm with outliers removed is better."
   ]
  },
  {
   "cell_type": "code",
   "execution_count": null,
   "metadata": {},
   "outputs": [],
   "source": [
    "%matplotlib inline\n",
    "from scripts.machineLearningAlgorithms import *\n",
    "settings = runMachineLearningAlgorithms(data, comp, strats, problemType, task, showRuntimePrediction=False, runTPOT=False, removeOutliers=removeOutliers)\n",
    "plot_alg(data, settings.strats, maxBaseline, problemType) "
   ]
  },
  {
   "cell_type": "markdown",
   "metadata": {},
   "source": [
    "Please use this cell to easily add new classifiers, an example is already given."
   ]
  },
  {
   "cell_type": "code",
   "execution_count": null,
   "metadata": {},
   "outputs": [],
   "source": [
    "%matplotlib inline\n",
    "from sklearn.discriminant_analysis import QuadraticDiscriminantAnalysis\n",
    "\n",
    "#Create a custom algorithm by setting classifier and name\n",
    "#---------------------------------------------------\n",
    "clf =  QuadraticDiscriminantAnalysis()\n",
    "name = \"CustomAlgorithmQuadraticDiscriminantAnalysis\"\n",
    "#---------------------------------------------------\n",
    "runMLAlgorithm(estimator=clf, name=name, settings=settings)\n",
    "plot_alg(data, settings.strats, maxBaseline, problemType) "
   ]
  },
  {
   "cell_type": "markdown",
   "metadata": {},
   "source": [
    "This is an interactive plot which shows all algorithm performance datapoints from OpenML, a boxplot is overlaid. The red dots are all the algorithms run in this notebook, you can mouse over each of the datapoints to see their name and accuracy."
   ]
  },
  {
   "cell_type": "code",
   "execution_count": null,
   "metadata": {},
   "outputs": [],
   "source": [
    "%matplotlib nbagg\n",
    "from scripts.relativePerformance import * \n",
    "showRelativePerformanceBoxplot(scores, topList, settings.strats, maxBaseline) "
   ]
  }
 ],
 "metadata": {},
 "nbformat": 4,
 "nbformat_minor": 2
}
