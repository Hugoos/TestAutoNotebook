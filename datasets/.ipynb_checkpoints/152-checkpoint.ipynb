{
 "cells": [
  {
   "cell_type": "markdown",
   "metadata": {},
   "source": [
    "    # Automatic Jupyter Notebook for OpenML dataset 152: Hyperplane_10_1E-3"
   ]
  },
  {
   "cell_type": "code",
   "execution_count": 1,
   "metadata": {},
   "outputs": [
    {
     "name": "stderr",
     "output_type": "stream",
     "text": [
      "C:\\Users\\Hugo\\Anaconda3\\lib\\site-packages\\sklearn\\ensemble\\weight_boosting.py:29: DeprecationWarning: numpy.core.umath_tests is an internal NumPy module and should not be imported. It will be removed in a future NumPy release.\n",
      "  from numpy.core.umath_tests import inner1d\n"
     ]
    },
    {
     "name": "stdout",
     "output_type": "stream",
     "text": [
      "{'NumberOfInstancesWithMissingValues': 0, 'MaxNominalAttDistinctValues': 2, 'MinorityClassSize': 499993, 'evaluation_measures': 'predictive_accuracy', 'tid': 337, 'source_data': '152', 'task_type': 'Supervised Classification', 'NumberOfNumericFeatures': 10, 'estimation_procedure': '33% Holdout set', 'ttid': 1, 'NumberOfInstances': 1000000, 'NumberOfClasses': 2, 'MajorityClassSize': 500007, 'NumberOfFeatures': 11, 'name': 'Hyperplane_10_1E-3', 'did': 152, 'NumberOfMissingValues': 0, 'NumberOfSymbolicFeatures': 1, 'target_feature': 'class', 'status': 'active'}\n",
      "0\n",
      "{'NumberOfInstancesWithMissingValues': 0, 'MaxNominalAttDistinctValues': 2, 'MinorityClassSize': 499993, 'evaluation_measures': 'predictive_accuracy', 'tid': 220, 'source_data': '152', 'task_type': 'Supervised Classification', 'NumberOfNumericFeatures': 10, 'estimation_procedure': '10-fold Crossvalidation', 'ttid': 1, 'NumberOfInstances': 1000000, 'NumberOfClasses': 2, 'MajorityClassSize': 500007, 'NumberOfFeatures': 11, 'name': 'Hyperplane_10_1E-3', 'did': 152, 'NumberOfMissingValues': 0, 'NumberOfSymbolicFeatures': 1, 'target_feature': 'class', 'status': 'active'}\n",
      "0\n",
      "{'NumberOfInstancesWithMissingValues': 0, 'MaxNominalAttDistinctValues': 2, 'MinorityClassSize': 499993, 'evaluation_measures': 'precision', 'tid': 146013, 'source_data': '152', 'task_type': 'Supervised Classification', 'NumberOfNumericFeatures': 10, 'estimation_procedure': '10-fold Crossvalidation', 'ttid': 1, 'NumberOfInstances': 1000000, 'NumberOfClasses': 2, 'MajorityClassSize': 500007, 'NumberOfFeatures': 11, 'name': 'Hyperplane_10_1E-3', 'did': 152, 'NumberOfMissingValues': 0, 'NumberOfSymbolicFeatures': 1, 'target_feature': 'class', 'status': 'active'}\n",
      "0\n",
      "{'NumberOfInstancesWithMissingValues': 0, 'MaxNominalAttDistinctValues': 2, 'MinorityClassSize': 499993, 'evaluation_measures': 'predictive_accuracy', 'tid': 1870, 'source_data': '152', 'task_type': 'Supervised Classification', 'NumberOfNumericFeatures': 10, 'estimation_procedure': '5 times 2-fold Crossvalidation', 'ttid': 1, 'NumberOfInstances': 1000000, 'NumberOfClasses': 2, 'MajorityClassSize': 500007, 'NumberOfFeatures': 11, 'name': 'Hyperplane_10_1E-3', 'did': 152, 'NumberOfMissingValues': 0, 'NumberOfSymbolicFeatures': 1, 'target_feature': 'class', 'status': 'active'}\n",
      "0\n",
      "{'NumberOfInstancesWithMissingValues': 0, 'MaxNominalAttDistinctValues': 2, 'MinorityClassSize': 499993, 'evaluation_measures': 'predictive_accuracy', 'tid': 2911, 'source_data': '152', 'task_type': 'Supervised Classification', 'NumberOfNumericFeatures': 10, 'estimation_procedure': '10 times 10-fold Crossvalidation', 'ttid': 1, 'NumberOfInstances': 1000000, 'NumberOfClasses': 2, 'MajorityClassSize': 500007, 'NumberOfFeatures': 11, 'name': 'Hyperplane_10_1E-3', 'did': 152, 'NumberOfMissingValues': 0, 'NumberOfSymbolicFeatures': 1, 'target_feature': 'class', 'status': 'active'}\n",
      "0\n",
      "{}\n"
     ]
    },
    {
     "data": {
      "text/plain": [
       "'This dataset has no runs yet'"
      ]
     },
     "execution_count": 1,
     "metadata": {},
     "output_type": "execute_result"
    }
   ],
   "source": [
    "from scripts.preamble import *\n",
    "did = 152\n",
    "data = oml.datasets.get_dataset(did)\n",
    "task, topList, strats = printTopNFlows(did, data.default_target_attribute, 10) \n",
    "topList "
   ]
  },
  {
   "cell_type": "code",
   "execution_count": 2,
   "metadata": {},
   "outputs": [
    {
     "name": "stdout",
     "output_type": "stream",
     "text": [
      "Problem type: supervised classification problem.\n"
     ]
    }
   ],
   "source": [
    "from scripts.problemType import *\n",
    "problemType = findProblemType(data) \n",
    "checkTask(task, problemType, data.default_target_attribute) "
   ]
  },
  {
   "cell_type": "code",
   "execution_count": 3,
   "metadata": {},
   "outputs": [
    {
     "name": "stdout",
     "output_type": "stream",
     "text": [
      "   did          name  similarity                           url\n",
      "0  227     cpu_small       0.791  https://www.openml.org/d/227\n",
      "1  197       cpu_act       0.791  https://www.openml.org/d/197\n",
      "2  201           pol       0.790  https://www.openml.org/d/201\n",
      "3  230   machine_cpu       0.788  https://www.openml.org/d/230\n",
      "4  298      coil2000       0.781  https://www.openml.org/d/298\n",
      "5  218      house_8L       0.776  https://www.openml.org/d/218\n",
      "6  206     triazines       0.774  https://www.openml.org/d/206\n",
      "7  217         pyrim       0.766  https://www.openml.org/d/217\n",
      "8  424           pah       0.765  https://www.openml.org/d/424\n",
      "9  287  wine_quality       0.761  https://www.openml.org/d/287\n"
     ]
    }
   ],
   "source": [
    "from scripts.localDataOpenMLInterface import *\n",
    "showTopNSimilarDatasets(\"datasetSimilarityMatrixNormalized\", did, 10) "
   ]
  },
  {
   "cell_type": "markdown",
   "metadata": {},
   "source": [
    "Complexity threshold to determine if an algorithm will be run.\n"
   ]
  },
  {
   "cell_type": "code",
   "execution_count": 4,
   "metadata": {},
   "outputs": [],
   "source": [
    "comp = 50000000000000"
   ]
  },
  {
   "cell_type": "code",
   "execution_count": 5,
   "metadata": {},
   "outputs": [
    {
     "data": {
      "image/png": "[encoded data removed]",
      "text/plain": [
       "<matplotlib.figure.Figure at 0x2aef5f33128>"
      ]
     },
     "metadata": {},
     "output_type": "display_data"
    }
   ],
   "source": [
    "from scripts.featureImportance import *\n",
    "featureImportance(data) "
   ]
  },
  {
   "cell_type": "code",
   "execution_count": 6,
   "metadata": {},
   "outputs": [
    {
     "data": {
      "image/png": "[encoded data removed]",
      "text/plain": [
       "<matplotlib.figure.Figure at 0x2ae4046b6a0>"
      ]
     },
     "metadata": {},
     "output_type": "display_data"
    }
   ],
   "source": [
    "from scripts.baselines import *\n",
    "maxBaseline = generateBaselines(data, problemType) "
   ]
  },
  {
   "cell_type": "code",
   "execution_count": 7,
   "metadata": {},
   "outputs": [
    {
     "name": "stderr",
     "output_type": "stream",
     "text": [
      "C:\\Users\\Hugo\\Anaconda3\\lib\\site-packages\\sklearn\\cross_validation.py:41: DeprecationWarning: This module was deprecated in version 0.18 in favor of the model_selection module into which all the refactored classes and functions are moved. Also note that the interface of the new CV iterators are different from that of this module. This module will be removed in 0.20.\n",
      "  \"This module will be removed in 0.20.\", DeprecationWarning)\n",
      "C:\\Users\\Hugo\\Anaconda3\\lib\\site-packages\\sklearn\\grid_search.py:42: DeprecationWarning: This module was deprecated in version 0.18 in favor of the model_selection module into which all the refactored classes and functions are moved. This module will be removed in 0.20.\n",
      "  DeprecationWarning)\n",
      "C:\\Users\\Hugo\\Anaconda3\\lib\\site-packages\\sklearn\\learning_curve.py:22: DeprecationWarning: This module was deprecated in version 0.18 in favor of the model_selection module into which all the functions are moved. This module will be removed in 0.20\n",
      "  DeprecationWarning)\n"
     ]
    },
    {
     "name": "stdout",
     "output_type": "stream",
     "text": [
      "-1\n"
     ]
    },
    {
     "ename": "TypeError",
     "evalue": "'int' object is not iterable",
     "output_type": "error",
     "traceback": [
      "\u001b[1;31m---------------------------------------------------------------------------\u001b[0m",
      "\u001b[1;31mTypeError\u001b[0m                                 Traceback (most recent call last)",
      "\u001b[1;32m<ipython-input-7-3886e6483bb2>\u001b[0m in \u001b[0;36m<module>\u001b[1;34m()\u001b[0m\n\u001b[0;32m      1\u001b[0m \u001b[1;32mfrom\u001b[0m \u001b[0mscripts\u001b[0m\u001b[1;33m.\u001b[0m\u001b[0mmachineLearningAlgorithms\u001b[0m \u001b[1;32mimport\u001b[0m \u001b[1;33m*\u001b[0m\u001b[1;33m\u001b[0m\u001b[0m\n\u001b[1;32m----> 2\u001b[1;33m \u001b[0mstrats\u001b[0m \u001b[1;33m=\u001b[0m \u001b[0mrunMachineLearningAlgorithms\u001b[0m\u001b[1;33m(\u001b[0m\u001b[0mdata\u001b[0m\u001b[1;33m,\u001b[0m \u001b[0mcomp\u001b[0m\u001b[1;33m,\u001b[0m \u001b[0mstrats\u001b[0m\u001b[1;33m,\u001b[0m \u001b[0mproblemType\u001b[0m\u001b[1;33m,\u001b[0m \u001b[0mtask\u001b[0m\u001b[1;33m,\u001b[0m \u001b[0mshowRuntimePrediction\u001b[0m\u001b[1;33m=\u001b[0m\u001b[1;32mTrue\u001b[0m\u001b[1;33m,\u001b[0m \u001b[0mrunTPOT\u001b[0m\u001b[1;33m=\u001b[0m\u001b[1;32mFalse\u001b[0m\u001b[1;33m)\u001b[0m\u001b[1;33m\u001b[0m\u001b[0m\n\u001b[0m\u001b[0;32m      3\u001b[0m \u001b[0mplot_alg\u001b[0m\u001b[1;33m(\u001b[0m\u001b[0mdata\u001b[0m\u001b[1;33m,\u001b[0m \u001b[0mstrats\u001b[0m\u001b[1;33m,\u001b[0m \u001b[0mmaxBaseline\u001b[0m\u001b[1;33m,\u001b[0m \u001b[0mproblemType\u001b[0m\u001b[1;33m)\u001b[0m\u001b[1;33m\u001b[0m\u001b[0m\n",
      "\u001b[1;32mH:\\MasterThesis\\auto-jupyter-notebook-master\\datasets\\scripts\\machineLearningAlgorithms.py\u001b[0m in \u001b[0;36mrunMachineLearningAlgorithms\u001b[1;34m(data, comp, strats, problemType, task, showRuntimePrediction, runTPOT)\u001b[0m\n\u001b[0;32m     35\u001b[0m \u001b[1;33m\u001b[0m\u001b[0m\n\u001b[0;32m     36\u001b[0m     \u001b[1;32mif\u001b[0m \u001b[0mproblemType\u001b[0m \u001b[1;33m==\u001b[0m \u001b[0mCLASSIFICATION\u001b[0m\u001b[1;33m:\u001b[0m\u001b[1;33m\u001b[0m\u001b[0m\n\u001b[1;32m---> 37\u001b[1;33m         \u001b[0mstrats\u001b[0m \u001b[1;33m=\u001b[0m \u001b[0mdecisionTreeClassifier\u001b[0m\u001b[1;33m(\u001b[0m\u001b[0mdata\u001b[0m\u001b[1;33m,\u001b[0m \u001b[0mcomp\u001b[0m\u001b[1;33m,\u001b[0m \u001b[0mstrats\u001b[0m\u001b[1;33m,\u001b[0m \u001b[0mtask\u001b[0m\u001b[1;33m,\u001b[0m \u001b[0mshowRuntimePrediction\u001b[0m\u001b[1;33m)\u001b[0m\u001b[1;33m\u001b[0m\u001b[0m\n\u001b[0m\u001b[0;32m     38\u001b[0m         \u001b[0mstrats\u001b[0m \u001b[1;33m=\u001b[0m \u001b[0mnaiveBayes\u001b[0m\u001b[1;33m(\u001b[0m\u001b[0mdata\u001b[0m\u001b[1;33m,\u001b[0m \u001b[0mcomp\u001b[0m\u001b[1;33m,\u001b[0m \u001b[0mstrats\u001b[0m\u001b[1;33m,\u001b[0m \u001b[0mtask\u001b[0m\u001b[1;33m,\u001b[0m \u001b[0mshowRuntimePrediction\u001b[0m\u001b[1;33m)\u001b[0m\u001b[1;33m\u001b[0m\u001b[0m\n\u001b[0;32m     39\u001b[0m         \u001b[0mstrats\u001b[0m \u001b[1;33m=\u001b[0m \u001b[0mrandomForestClassifier\u001b[0m\u001b[1;33m(\u001b[0m\u001b[0mdata\u001b[0m\u001b[1;33m,\u001b[0m \u001b[0mcomp\u001b[0m\u001b[1;33m,\u001b[0m \u001b[0mstrats\u001b[0m\u001b[1;33m,\u001b[0m \u001b[0mtask\u001b[0m\u001b[1;33m,\u001b[0m \u001b[0mshowRuntimePrediction\u001b[0m\u001b[1;33m)\u001b[0m\u001b[1;33m\u001b[0m\u001b[0m\n",
      "\u001b[1;32mH:\\MasterThesis\\auto-jupyter-notebook-master\\datasets\\scripts\\machineLearningAlgorithms.py\u001b[0m in \u001b[0;36mdecisionTreeClassifier\u001b[1;34m(data, comp, strats, task, showRuntimePrediction)\u001b[0m\n\u001b[0;32m    155\u001b[0m     \u001b[0mn\u001b[0m \u001b[1;33m=\u001b[0m \u001b[0mlen\u001b[0m\u001b[1;33m(\u001b[0m\u001b[0mX\u001b[0m\u001b[1;33m)\u001b[0m\u001b[1;33m\u001b[0m\u001b[0m\n\u001b[0;32m    156\u001b[0m     \u001b[0mprint\u001b[0m\u001b[1;33m(\u001b[0m\u001b[0mtask\u001b[0m\u001b[1;33m)\u001b[0m\u001b[1;33m\u001b[0m\u001b[0m\n\u001b[1;32m--> 157\u001b[1;33m     \u001b[0mtaskId\u001b[0m \u001b[1;33m=\u001b[0m \u001b[0mtasks\u001b[0m\u001b[1;33m.\u001b[0m\u001b[0mget_task\u001b[0m\u001b[1;33m(\u001b[0m\u001b[0mgetTaskId\u001b[0m\u001b[1;33m(\u001b[0m\u001b[0mtask\u001b[0m\u001b[1;33m)\u001b[0m\u001b[1;33m)\u001b[0m\u001b[1;33m\u001b[0m\u001b[0m\n\u001b[0m\u001b[0;32m    158\u001b[0m \u001b[1;33m\u001b[0m\u001b[0m\n\u001b[0;32m    159\u001b[0m     \u001b[0mflow\u001b[0m \u001b[1;33m=\u001b[0m \u001b[0mflows\u001b[0m\u001b[1;33m.\u001b[0m\u001b[0msklearn_to_flow\u001b[0m\u001b[1;33m(\u001b[0m\u001b[0mclf\u001b[0m\u001b[1;33m)\u001b[0m\u001b[1;33m\u001b[0m\u001b[0m\n",
      "\u001b[1;32mH:\\MasterThesis\\auto-jupyter-notebook-master\\datasets\\scripts\\machineLearningAlgorithms.py\u001b[0m in \u001b[0;36mgetTaskId\u001b[1;34m(task)\u001b[0m\n\u001b[0;32m    671\u001b[0m \u001b[1;33m\u001b[0m\u001b[0m\n\u001b[0;32m    672\u001b[0m \u001b[1;32mdef\u001b[0m \u001b[0mgetTaskId\u001b[0m\u001b[1;33m(\u001b[0m\u001b[0mtask\u001b[0m\u001b[1;33m)\u001b[0m\u001b[1;33m:\u001b[0m\u001b[1;33m\u001b[0m\u001b[0m\n\u001b[1;32m--> 673\u001b[1;33m     \u001b[1;32mreturn\u001b[0m \u001b[0mtask\u001b[0m\u001b[1;33m[\u001b[0m\u001b[0mnext\u001b[0m\u001b[1;33m(\u001b[0m\u001b[0miter\u001b[0m\u001b[1;33m(\u001b[0m\u001b[0mtask\u001b[0m\u001b[1;33m)\u001b[0m\u001b[1;33m)\u001b[0m\u001b[1;33m]\u001b[0m\u001b[1;33m[\u001b[0m\u001b[1;34m'task_id'\u001b[0m\u001b[1;33m]\u001b[0m\u001b[1;33m\u001b[0m\u001b[0m\n\u001b[0m\u001b[0;32m    674\u001b[0m \u001b[1;33m\u001b[0m\u001b[0m\n\u001b[0;32m    675\u001b[0m \u001b[1;32mdef\u001b[0m \u001b[0mtestFunction\u001b[0m\u001b[1;33m(\u001b[0m\u001b[0mdata\u001b[0m\u001b[1;33m)\u001b[0m\u001b[1;33m:\u001b[0m\u001b[1;33m\u001b[0m\u001b[0m\n",
      "\u001b[1;31mTypeError\u001b[0m: 'int' object is not iterable"
     ]
    }
   ],
   "source": [
    "from scripts.machineLearningAlgorithms import *\n",
    "strats = runMachineLearningAlgorithms(data, comp, strats, problemType, task, showRuntimePrediction=True, runTPOT=False)\n",
    "plot_alg(data, strats, maxBaseline, problemType) "
   ]
  }
 ],
 "metadata": {
  "kernelspec": {
   "display_name": "Python 3",
   "language": "python",
   "name": "python3"
  },
  "language_info": {
   "codemirror_mode": {
    "name": "ipython",
    "version": 3
   },
   "file_extension": ".py",
   "mimetype": "text/x-python",
   "name": "python",
   "nbconvert_exporter": "python",
   "pygments_lexer": "ipython3",
   "version": "3.5.5"
  }
 },
 "nbformat": 4,
 "nbformat_minor": 2
}
