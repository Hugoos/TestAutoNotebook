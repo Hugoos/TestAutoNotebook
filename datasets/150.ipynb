{
 "cells": [
  {
   "cell_type": "markdown",
   "metadata": {},
   "source": [
    "    # Automatic Jupyter Notebook for OpenML dataset 150: covertype"
   ]
  },
  {
   "cell_type": "code",
   "execution_count": null,
   "metadata": {},
   "outputs": [],
   "source": [
    "%matplotlib inline\n",
    "from scripts.preamble import *\n",
    "did = 150\n",
    "data = oml.datasets.get_dataset(did)\n",
    "X, y, features = getData(data)\n",
    "task, topList, strats, scores = getOpenMLData(did, data.default_target_attribute) \n",
    "topList[:10] "
   ]
  },
  {
   "cell_type": "code",
   "execution_count": null,
   "metadata": {},
   "outputs": [],
   "source": [
    "from scripts.problemType import *\n",
    "problemType = findProblemType(data) \n",
    "checkTask(task, problemType, data.default_target_attribute) "
   ]
  },
  {
   "cell_type": "code",
   "execution_count": null,
   "metadata": {},
   "outputs": [],
   "source": [
    "from scripts.dataVisualization import *\n",
    "show1DHist(data) "
   ]
  },
  {
   "cell_type": "code",
   "execution_count": null,
   "metadata": {},
   "outputs": [],
   "source": [
    "from scripts.outlierDetection import *\n",
    "outlierDetection(X, features, 10) "
   ]
  },
  {
   "cell_type": "code",
   "execution_count": null,
   "metadata": {},
   "outputs": [],
   "source": [
    "from scripts.localDataOpenMLInterface import *\n",
    "showTopNSimilarDatasets(\"datasetSimilarityMatrixNormalized\", did, 10) "
   ]
  },
  {
   "cell_type": "markdown",
   "metadata": {},
   "source": [
    "Complexity threshold to determine if an algorithm will be run.\n"
   ]
  },
  {
   "cell_type": "code",
   "execution_count": null,
   "metadata": {},
   "outputs": [],
   "source": [
    "comp = 50000000000000"
   ]
  },
  {
   "cell_type": "code",
   "execution_count": null,
   "metadata": {},
   "outputs": [],
   "source": [
    "from scripts.featureImportance import *\n",
    "featureImportance(data) "
   ]
  },
  {
   "cell_type": "code",
   "execution_count": null,
   "metadata": {},
   "outputs": [],
   "source": [
    "from scripts.baselines import *\n",
    "maxBaseline = generateBaselines(data, problemType) "
   ]
  },
  {
   "cell_type": "markdown",
   "metadata": {},
   "source": [
    "Please run the full notebook then toggle removeOutliers and run this cell and the next to compare the algorithms with and without outliers. "
   ]
  },
  {
   "cell_type": "code",
   "execution_count": null,
   "metadata": {},
   "outputs": [],
   "source": [
    "removeOutliers = False "
   ]
  },
  {
   "cell_type": "code",
   "execution_count": null,
   "metadata": {},
   "outputs": [],
   "source": [
    "from scripts.machineLearningAlgorithms import *\n",
    "settings = runMachineLearningAlgorithms(data, comp, strats, problemType, task, showRuntimePrediction=False, runTPOT=False, removeOutliers=removeOutliers)\n",
    "plot_alg(data, settings.strats, maxBaseline, problemType) "
   ]
  },
  {
   "cell_type": "code",
   "execution_count": null,
   "metadata": {},
   "outputs": [],
   "source": [
    "from sklearn.discriminant_analysis import QuadraticDiscriminantAnalysis\n",
    "\n",
    "#Create a custom algorithm by setting classifier and name\n",
    "#---------------------------------------------------\n",
    "clf =  QuadraticDiscriminantAnalysis()\n",
    "name = \"CustomAlgorithmQuadraticDiscriminantAnalysis\"\n",
    "#---------------------------------------------------\n",
    "runMLAlgorithm(estimator=clf, name=name, settings=settings)\n",
    "plot_alg(data, settings.strats, maxBaseline, problemType) "
   ]
  },
  {
   "cell_type": "code",
   "execution_count": null,
   "metadata": {},
   "outputs": [],
   "source": [
    "from scripts.relativePerformance import * \n",
    "showRelativePerformanceBoxplot(scores, topList, settings.strats, maxBaseline) "
   ]
  }
 ],
 "metadata": {},
 "nbformat": 4,
 "nbformat_minor": 2
}
