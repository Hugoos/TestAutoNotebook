{
 "cells": [
  {
   "cell_type": "markdown",
   "metadata": {},
   "source": [
    "    # Automatic Jupyter Notebook for OpenML dataset 665: sleuth_case2002"
   ]
  },
  {
   "cell_type": "code",
   "execution_count": 1,
   "metadata": {},
   "outputs": [],
   "source": [
    "%matplotlib inline\n",
    "import seaborn as sns\n",
    "import matplotlib.pyplot as plt\n",
    "import openml as oml\n",
    "import numpy as np\n",
    "import pandas as pd\n",
    "from sklearn import dummy\n",
    "from sklearn.model_selection import train_test_split\n",
    "from matplotlib import cm\n",
    "from matplotlib.ticker import FormatStrFormatter\n",
    "\n",
    "plt.rcParams['figure.dpi']= 120\n",
    "plt.rcParams['xtick.labelsize'] = 8\n",
    "plt.rcParams['ytick.labelsize'] = 8 \n",
    "\n",
    "from preamble import *\n",
    "from sklearn import preprocessing\n",
    "from sklearn.pipeline import Pipeline\n",
    "from sklearn.ensemble import RandomForestClassifier\n",
    "\n",
    "from pymongo import MongoClient"
   ]
  },
  {
   "cell_type": "markdown",
   "metadata": {},
   "source": [
    "The percentage of unique values for the default target attribute in this data set is 0.1293.\n",
    "Because this is higher than 5% of the dataset we assume that this is a **regression** problem. "
   ]
  },
  {
   "cell_type": "markdown",
   "metadata": {},
   "source": [
    "Complexity threshold to determine if an algorithm will be run.\n"
   ]
  },
  {
   "cell_type": "code",
   "execution_count": 2,
   "metadata": {},
   "outputs": [],
   "source": [
    "comp = 50000000000000"
   ]
  },
  {
   "cell_type": "markdown",
   "metadata": {},
   "source": [
    "Calculate baseline accuracy for regression problems using scikit-learn DummyRegressor. "
   ]
  },
  {
   "cell_type": "code",
   "execution_count": 3,
   "metadata": {},
   "outputs": [],
   "source": [
    "def regBaseline(data):\n",
    "    strategies = ['mean', 'median']\n",
    "    baseDict = {}\n",
    "    X, y, features = data.get_data(target=data.default_target_attribute, return_attribute_names=True); \n",
    "    X_train, X_test, y_train, y_test = train_test_split(X, y, random_state=0)\n",
    "    for strat in strategies:\n",
    "        clf = dummy.DummyRegressor(strategy=strat)\n",
    "        clf.fit(X_train, y_train)\n",
    "        baseDict[strat] = clf.score(X_test, y_test)\n",
    "    return baseDict, y "
   ]
  },
  {
   "cell_type": "markdown",
   "metadata": {},
   "source": [
    "Generates a plot of the regression baseline accuracy of the various baseline strategies using scikit-learn DummyRegressor.\n"
   ]
  },
  {
   "cell_type": "code",
   "execution_count": 4,
   "metadata": {},
   "outputs": [],
   "source": [
    "def plot_regBaseline(scores, y):\n",
    "    import numpy as np\n",
    "    import matplotlib.pyplot as plt\n",
    "    from matplotlib.ticker import MaxNLocator\n",
    "    from collections import namedtuple\n",
    "    \n",
    "    fig, ax = plt.subplots()\n",
    "\n",
    "    strats = scores\n",
    "    x = np.arange(1, len(y) + 1)\n",
    "    plt.plot(x, y, \"o\")\n",
    "    plt.axhline(y=np.mean(y), color='r', linestyle='--', label='mean '+ r\"$R^2$\" + ' = ' + str(round(scores['mean'],4)))\n",
    "    plt.axhline(y=np.median(y), color='b', linestyle='--', label='median '+ r\"$R^2$\" + ' = ' + str(round(scores['median'],4)))\n",
    "\n",
    "    maxBaseline = strats[max(strats, key=strats.get)]\n",
    "    \n",
    "    ax.set_xlabel('Data point index')\n",
    "    ax.set_ylabel(data.default_target_attribute)\n",
    "\n",
    "    plt.legend()\n",
    "    plt.show()\n",
    "    return maxBaseline"
   ]
  },
  {
   "cell_type": "markdown",
   "metadata": {},
   "source": [
    "Generates a plot of the accuracy of the machinelearning algorithms against the baseline.\n"
   ]
  },
  {
   "cell_type": "code",
   "execution_count": 5,
   "metadata": {},
   "outputs": [],
   "source": [
    "def plot_alg(scores, maxBaseline):\n",
    "    import numpy as np\n",
    "    import matplotlib.pyplot as plt\n",
    "    from matplotlib.ticker import MaxNLocator\n",
    "    from collections import namedtuple\n",
    "\n",
    "    strats = scores\n",
    "    \n",
    "    n_groups = len(strats)\n",
    "\n",
    "    fig, ax = plt.subplots()\n",
    "\n",
    "    index = np.arange(n_groups)\n",
    "    bar_width = 0.1\n",
    "\n",
    "    opacity = 0.4\n",
    "    error_config = {'ecolor': '0.3'}\n",
    "    x = list(strats.keys())\n",
    "    y = []\n",
    "    for strat in x:\n",
    "        y.append(strats[strat])\n",
    "    markerline, stemlines, baseline = plt.stem(np.arange(n_groups), y, '-.')\n",
    "    plt.setp(baseline, color='r', linewidth=2)\n",
    "    plt.xticks(range(len(strats)), list(strats.keys()))\n",
    "    plt.yticks(np.arange(-1, 1.1, step=0.2))\n",
    "    plt.yticks(list(plt.yticks()[0]) + [maxBaseline])\n",
    "    plt.plot()\n",
    "    ax.set_ylim(ymin=-1)\n",
    "    ax.set_ylim(ymax=1)\n",
    "    ax.set_xlim(xmin=-0.1)\n",
    "    ax.set_xlim(xmax=len(strats)-0.9)\n",
    "    ax.set_xlabel('Machine Learning Algorithm')\n",
    "    ax.set_ylabel('$R^2$')\n",
    "    ax.set_title('Algorithm Performance Predicting Feature: ' + data.default_target_attribute)\n",
    "    plt.axhline(y=maxBaseline, color='r', linestyle='--', label=maxBaseline)\n",
    "    plt.gca().get_yticklabels()[len(plt.gca().get_yticklabels())-1].set_color('red')\n",
    "    fig.autofmt_xdate()\n",
    "    fig.tight_layout()\n",
    "    plt.show() "
   ]
  },
  {
   "cell_type": "markdown",
   "metadata": {},
   "source": [
    "Build Random Forest model from the dataset and compute important features. "
   ]
  },
  {
   "cell_type": "code",
   "execution_count": 6,
   "metadata": {},
   "outputs": [],
   "source": [
    "def build_forest(data):    \n",
    "    X, y, features = data.get_data(target=data.default_target_attribute, return_attribute_names=True); \n",
    "    forest = Pipeline([('Imputer', preprocessing.Imputer(missing_values='NaN', strategy='mean', axis=0)),\n",
    "                       ('classifiers', RandomForestClassifier(n_estimators=100, random_state=0))])\n",
    "    forest.fit(X,y)\n",
    "    \n",
    "    importances = forest.steps[1][1].feature_importances_\n",
    "    indices = np.argsort(importances)[::-1]\n",
    "    return data.name, features, importances, indices "
   ]
  },
  {
   "cell_type": "markdown",
   "metadata": {},
   "source": [
    "Plot Top-20 important features for the dataset. "
   ]
  },
  {
   "cell_type": "code",
   "execution_count": 7,
   "metadata": {},
   "outputs": [],
   "source": [
    "def plot_feature_importances(features, importances, indices):\n",
    "    a = 0.8\n",
    "    f_sub = []\n",
    "    max_features = 20\n",
    "\n",
    "    for f in range(min(len(features), max_features)): \n",
    "            f_sub.append(f)\n",
    "\n",
    "    # Create a figure of given size\n",
    "    fig = plt.figure(figsize=(6, 4))\n",
    "    ax = fig.add_subplot(111)\n",
    "    # Set title\n",
    "    ttl = dataset_name\n",
    "\n",
    "    df = pd.DataFrame(importances[indices[f_sub]][::-1])\n",
    "    df.plot(kind='barh', ax=ax, alpha=a, legend=False, edgecolor='w', \n",
    "            title=ttl, color = [plt.cm.viridis(np.arange(len(df))*10)])\n",
    "\n",
    "    # Remove grid lines and plot frame\n",
    "    ax.grid(False)\n",
    "    ax.set_frame_on(False)\n",
    "\n",
    "    # Customize title\n",
    "    ax.set_title(ax.get_title(), fontsize=14, alpha=a, ha='left', x=0, y=1.0)\n",
    "    plt.subplots_adjust(top=0.9)\n",
    "\n",
    "    # Customize x tick lables\n",
    "    ax.xaxis.set_major_formatter(FormatStrFormatter('%.3f'))\n",
    "    ax.locator_params(axis='x', tight=True, nbins=5)\n",
    "\n",
    "    # Customize y tick labels\n",
    "    yticks = np.array(features)[indices[f_sub]][::-1]\n",
    "    ax.set_yticklabels(yticks, fontsize=8, alpha=a)\n",
    "    ax.yaxis.set_tick_params(pad=2)\n",
    "    ax.yaxis.set_ticks_position('none')  \n",
    "    ax.set_ylim(ax.get_ylim()[0]-0.5, ax.get_ylim()[1]+0.5) \n",
    "\n",
    "    # Set x axis text\n",
    "    xlab = 'Feature importance'\n",
    "    ax.set_xlabel(xlab, fontsize=10, alpha=a)\n",
    "    ax.xaxis.set_label_coords(0.5, -0.1)\n",
    "\n",
    "    # Set y axis text\n",
    "    ylab = 'Feature'\n",
    "    ax.set_ylabel(ylab, fontsize=10, alpha=a)\n",
    "    plt.show() "
   ]
  },
  {
   "cell_type": "markdown",
   "metadata": {},
   "source": [
    "Choose desired dataset and generate the most important plot. "
   ]
  },
  {
   "cell_type": "code",
   "execution_count": 8,
   "metadata": {},
   "outputs": [],
   "source": [
    "dataset = 665"
   ]
  },
  {
   "cell_type": "code",
   "execution_count": 9,
   "metadata": {},
   "outputs": [
    {
     "data": {
      "image/png": "[encoded data removed]",
      "text/plain": [
       "<matplotlib.figure.Figure at 0x288aa1880b8>"
      ]
     },
     "metadata": {},
     "output_type": "display_data"
    }
   ],
   "source": [
    "data = oml.datasets.get_dataset(dataset)\n",
    "dataset_name, features, importances, indices = build_forest(data)\n",
    "plot_feature_importances(features, importances, indices)"
   ]
  },
  {
   "cell_type": "markdown",
   "metadata": {},
   "source": [
    "Plot of the regression baseline acuracy of the various baseline strategies using scikit-learn DummyRegressor.\n",
    "\n",
    "The target feature is: **CD**\n",
    "\n",
    "The $R^2$ statistic is calculated as a baseline.\n",
    "\n",
    "The following baseline strategies are used: mean, median.\n",
    "\n",
    "The strategies work as follow according to the sciki-learn API:\n",
    "\n",
    "- **mean**: Always predicts the mean of the training set.\n",
    "\n",
    "- **median**: Always predicts the median of the training set.\n",
    "\n",
    "[More information.](http://scikit-learn.org/stable/modules/generated/sklearn.dummy.DummyRegressor.html)\n"
   ]
  },
  {
   "cell_type": "code",
   "execution_count": 10,
   "metadata": {},
   "outputs": [
    {
     "data": {
      "image/png": "[encoded data removed]",
      "text/plain": [
       "<matplotlib.figure.Figure at 0x288a8d00160>"
      ]
     },
     "metadata": {},
     "output_type": "display_data"
    }
   ],
   "source": [
    "scores, y = regBaseline(data)\n",
    "maxBaseline = plot_regBaseline(scores, y) \n",
    "strats = {} "
   ]
  },
  {
   "cell_type": "markdown",
   "metadata": {},
   "source": [
    "Runs the decision tree regressor algorithm on the dataset WIP\n"
   ]
  },
  {
   "cell_type": "code",
   "execution_count": 11,
   "metadata": {},
   "outputs": [],
   "source": [
    "#Runs the decision tree regressor algorithm on the dataset\n",
    "from sklearn import tree\n",
    "#Running default values, it is recommended to experiment with the values of the parameters below. Try min_samples_leaf=5\n",
    "clf = tree.DecisionTreeRegressor(max_depth=None, min_samples_leaf=1, max_features=None, max_leaf_nodes=None)\n",
    "X, y, features = data.get_data(target=data.default_target_attribute, return_attribute_names=True); \n",
    "X_train, X_test, y_train, y_test = train_test_split(X, y, random_state=0)\n",
    "\n",
    "X_train = np.nan_to_num(X_train)\n",
    "X_test = np.nan_to_num(X_test)\n",
    "y_test = np.nan_to_num(y_test)\n",
    "y_train = np.nan_to_num(y_train)\n",
    "\n",
    "p = len(features)\n",
    "n = len(X_train)\n",
    "#computational complexity O(n^2 * p)\n",
    "complexity = n**2 * p\n",
    "\n",
    "if complexity <= comp or comp == -1:\n",
    "    clf.fit(X_train, y_train)\n",
    "    acc = clf.score(X_test, y_test)\n",
    "    strats['decision tree'] = acc \n",
    "else: \n",
    "    print(\"computation complexity too high, please run manually if desired.\") "
   ]
  },
  {
   "cell_type": "markdown",
   "metadata": {},
   "source": [
    "Runs the linear regression algorithm on the dataset WIP\n"
   ]
  },
  {
   "cell_type": "code",
   "execution_count": 12,
   "metadata": {},
   "outputs": [],
   "source": [
    "#Runs the linear regression algorithm on the dataset\n",
    "from sklearn.linear_model import LinearRegression\n",
    "#Running default values, it is recommended to experiment with the values of the parameters below. Try min_samples_leaf=5\n",
    "clf = LinearRegression()\n",
    "X, y, features = data.get_data(target=data.default_target_attribute, return_attribute_names=True); \n",
    "X_train, X_test, y_train, y_test = train_test_split(X, y, random_state=0)\n",
    "\n",
    "X_train = np.nan_to_num(X_train)\n",
    "X_test = np.nan_to_num(X_test)\n",
    "y_test = np.nan_to_num(y_test)\n",
    "y_train = np.nan_to_num(y_train)\n",
    "\n",
    "p = len(features)\n",
    "n = len(X_train)\n",
    "#computational complexity O(p^2 *n + P^3)\n",
    "complexity = p**2 * n + p**3\n",
    "\n",
    "if complexity <= comp or comp == -1:\n",
    "    clf.fit(X_train, y_train)\n",
    "    acc = clf.score(X_test, y_test)\n",
    "    strats['linear regression'] = acc\n",
    "else: \n",
    "    print(\"computation complexity too high, please run manually if desired.\") "
   ]
  },
  {
   "cell_type": "markdown",
   "metadata": {},
   "source": [
    "Runs the random forest regressor algorithm on the dataset WIP\n"
   ]
  },
  {
   "cell_type": "code",
   "execution_count": 13,
   "metadata": {},
   "outputs": [],
   "source": [
    "#Runs the random forest algorithm on the dataset.\n",
    "from sklearn.ensemble import RandomForestRegressor\n",
    "import math\n",
    "#Running default values, it is recommended to experiment with the values of the parameters below.\n",
    "clf = RandomForestRegressor()\n",
    "X, y, features = data.get_data(target=data.default_target_attribute, return_attribute_names=True); \n",
    "X_train, X_test, y_train, y_test = train_test_split(X, y, random_state=0)\n",
    "\n",
    "X_train = np.nan_to_num(X_train)\n",
    "X_test = np.nan_to_num(X_test)\n",
    "y_test = np.nan_to_num(y_test)\n",
    "y_train = np.nan_to_num(y_train)\n",
    "\n",
    "p = len(features)\n",
    "n = len(X_train)\n",
    "#computational complexity O(n^2 * p * n_trees)\n",
    "complexity = n**2 * p * 10\n",
    "\n",
    "if complexity <= comp or comp == -1:\n",
    "    clf.fit(X_train, y_train)\n",
    "    acc = clf.score(X_test, y_test)\n",
    "    strats['random forest'] = acc \n",
    "else: \n",
    "    print(\"computation complexity too high, please run manually if desired.\") "
   ]
  },
  {
   "cell_type": "markdown",
   "metadata": {},
   "source": [
    "Runs the regressor support vector machine algorithm on the dataset WIP\n"
   ]
  },
  {
   "cell_type": "code",
   "execution_count": 14,
   "metadata": {},
   "outputs": [],
   "source": [
    "#Runs the regression support vector machine algorithm on the dataset\n",
    "from sklearn import svm\n",
    "#Running default values, it is recommended to experiment with the values of the parameters below.\n",
    "clf = svm.SVR()\n",
    "X, y, features = data.get_data(target=data.default_target_attribute, return_attribute_names=True); \n",
    "X_train, X_test, y_train, y_test = train_test_split(X, y, random_state=0)\n",
    "\n",
    "X_train = np.nan_to_num(X_train)\n",
    "X_test = np.nan_to_num(X_test)\n",
    "y_test = np.nan_to_num(y_test)\n",
    "y_train = np.nan_to_num(y_train)\n",
    "\n",
    "p = len(features)\n",
    "n = len(X_train)\n",
    "#computational complexity O(n^2 * p + n^3)\n",
    "complexity = n**2 * p + n**3\n",
    "\n",
    "if complexity <= comp or comp == -1:\n",
    "    clf.fit(X_train, y_train)\n",
    "    acc = clf.score(X_test, y_test)\n",
    "    strats['support vector machine'] = acc \n",
    "else: \n",
    "    print(\"computation complexity too high, please run manually if desired.\") "
   ]
  },
  {
   "cell_type": "markdown",
   "metadata": {},
   "source": [
    "Plot the accuracy of various machine learning algorithms against the baseline. "
   ]
  },
  {
   "cell_type": "code",
   "execution_count": 15,
   "metadata": {},
   "outputs": [
    {
     "data": {
      "image/png": "[encoded data removed]",
      "text/plain": [
       "<matplotlib.figure.Figure at 0x288b04ba1d0>"
      ]
     },
     "metadata": {},
     "output_type": "display_data"
    }
   ],
   "source": [
    "plot_alg(strats,maxBaseline) "
   ]
  }
 ],
 "metadata": {
  "kernelspec": {
   "display_name": "Python 3",
   "language": "python",
   "name": "python3"
  },
  "language_info": {
   "codemirror_mode": {
    "name": "ipython",
    "version": 3
   },
   "file_extension": ".py",
   "mimetype": "text/x-python",
   "name": "python",
   "nbconvert_exporter": "python",
   "pygments_lexer": "ipython3",
   "version": "3.5.5"
  }
 },
 "nbformat": 4,
 "nbformat_minor": 2
}
