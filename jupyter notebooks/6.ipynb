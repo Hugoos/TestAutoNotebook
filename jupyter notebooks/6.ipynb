{
 "cells": [
  {
   "cell_type": "markdown",
   "metadata": {},
   "source": [
    "    # Automatic Jupyter Notebook for OpenML dataset 6: letter"
   ]
  },
  {
   "cell_type": "code",
   "execution_count": 1,
   "metadata": {},
   "outputs": [],
   "source": [
    "%matplotlib inline\n",
    "import seaborn as sns\n",
    "import matplotlib.pyplot as plt\n",
    "import openml as oml\n",
    "import numpy as np\n",
    "import pandas as pd\n",
    "from sklearn import dummy\n",
    "from sklearn.model_selection import train_test_split\n",
    "from matplotlib import cm\n",
    "from matplotlib.ticker import FormatStrFormatter\n",
    "\n",
    "plt.rcParams['figure.dpi']= 120\n",
    "plt.rcParams['xtick.labelsize'] = 8\n",
    "plt.rcParams['ytick.labelsize'] = 8 \n",
    "\n",
    "from preamble import *\n",
    "from sklearn import preprocessing\n",
    "from sklearn.pipeline import Pipeline\n",
    "from sklearn.ensemble import RandomForestClassifier\n",
    "\n",
    "from pymongo import MongoClient"
   ]
  },
  {
   "cell_type": "markdown",
   "metadata": {},
   "source": [
    "The percentage of unique values for the default target attribute in this data set is 0.0013.\n",
    "Because this is lower or equal than 5% of the dataset we assume that this is a **classification** problem. "
   ]
  },
  {
   "cell_type": "markdown",
   "metadata": {},
   "source": [
    "Complexity threshold to determine if an algorithm will be run.\n"
   ]
  },
  {
   "cell_type": "code",
   "execution_count": 2,
   "metadata": {},
   "outputs": [],
   "source": [
    "comp = 50000000000000"
   ]
  },
  {
   "cell_type": "markdown",
   "metadata": {},
   "source": [
    "Calculate baseline accuracy for classification problems using scikit-learn DummyClassifier. "
   ]
  },
  {
   "cell_type": "code",
   "execution_count": 3,
   "metadata": {},
   "outputs": [],
   "source": [
    "def baseline(data):\n",
    "    strategies = ['stratified','most_frequent','prior','uniform']\n",
    "    baseDict = {}\n",
    "    X, y, features = data.get_data(target=data.default_target_attribute, return_attribute_names=True); \n",
    "    X_train, X_test, y_train, y_test = train_test_split(X, y, random_state=0)\n",
    "    for strat in strategies:\n",
    "        clf = dummy.DummyClassifier(strategy=strat,random_state=0)\n",
    "        clf.fit(X_train, y_train)\n",
    "        baseDict[strat] = clf.score(X_test, y_test)\n",
    "    return baseDict  "
   ]
  },
  {
   "cell_type": "markdown",
   "metadata": {},
   "source": [
    "Generates a plot of the classification baseline accuracy of the various baseline strategies using scikit-learn DummyClassifier.\n"
   ]
  },
  {
   "cell_type": "code",
   "execution_count": 4,
   "metadata": {},
   "outputs": [],
   "source": [
    "def plot_baseline(scores):\n",
    "    import numpy as np\n",
    "    import matplotlib.pyplot as plt\n",
    "    from matplotlib.ticker import MaxNLocator\n",
    "    from collections import namedtuple\n",
    "\n",
    "    strats = scores\n",
    "    maxBaseline = strats[max(strats, key=strats.get)]\n",
    "    \n",
    "    n_groups = len(strats)\n",
    "\n",
    "    fig, ax = plt.subplots()\n",
    "\n",
    "    index = np.arange(n_groups)\n",
    "    bar_width = 0.1\n",
    "\n",
    "    opacity = 0.4\n",
    "    error_config = {'ecolor': '0.3'}\n",
    "\n",
    "    plt.bar(range(len(strats)), strats.values(), align='center')\n",
    "    plt.xticks(range(len(strats)), list(strats.keys()))\n",
    "    plt.yticks(np.arange(0, 1.1, step=0.2))\n",
    "    plt.yticks(list(plt.yticks()[0]) + [maxBaseline])\n",
    "\n",
    "    ax.set_ylim(ymin=0)\n",
    "    ax.set_ylim(ymax=1)\n",
    "    ax.set_xlabel('Baseline Strategy')\n",
    "    ax.set_ylabel('Accuracy')\n",
    "    ax.set_title('Baseline Performance Predicting Feature: ' + data.default_target_attribute)\n",
    "    plt.axhline(y=maxBaseline, color='r', linestyle='--', label=maxBaseline)\n",
    "    plt.gca().get_yticklabels()[6].set_color('red')\n",
    "    fig.tight_layout()\n",
    "    plt.show() \n",
    "    return maxBaseline "
   ]
  },
  {
   "cell_type": "markdown",
   "metadata": {},
   "source": [
    "Generates a plot of the accuracy of the machinelearning algorithms against the baseline.\n"
   ]
  },
  {
   "cell_type": "code",
   "execution_count": 5,
   "metadata": {},
   "outputs": [],
   "source": [
    "def plot_alg(scores, maxBaseline):\n",
    "    import numpy as np\n",
    "    import matplotlib.pyplot as plt\n",
    "    from matplotlib.ticker import MaxNLocator\n",
    "    from collections import namedtuple\n",
    "\n",
    "    strats = scores\n",
    "    \n",
    "    n_groups = len(strats)\n",
    "\n",
    "    fig, ax = plt.subplots()\n",
    "\n",
    "    index = np.arange(n_groups)\n",
    "    bar_width = 0.1\n",
    "\n",
    "    opacity = 0.4\n",
    "    error_config = {'ecolor': '0.3'}\n",
    "\n",
    "    barlist =plt.bar(range(len(strats)), strats.values(), align='center')\n",
    "    plt.xticks(range(len(strats)), list(strats.keys()))\n",
    "    plt.yticks(np.arange(0, 1.1, step=0.2))\n",
    "    plt.yticks(list(plt.yticks()[0]) + [maxBaseline])\n",
    "\n",
    "    ax.set_ylim(ymin=0)\n",
    "    ax.set_ylim(ymax=1)\n",
    "    ax.set_xlabel('Machine Learning Algorithm')\n",
    "    ax.set_ylabel('Accuracy')\n",
    "    ax.set_title('Algorithm Performance Predicting Feature: ' + data.default_target_attribute)\n",
    "    plt.axhline(y=maxBaseline, color='r', linestyle='--', label=maxBaseline)\n",
    "    plt.gca().get_yticklabels()[6].set_color('red')\n",
    "    for bar in barlist:\n",
    "        if bar.get_height() > maxBaseline:\n",
    "            bar.set_facecolor('g')\n",
    "    fig.autofmt_xdate()\n",
    "    fig.tight_layout()\n",
    "    plt.show()  "
   ]
  },
  {
   "cell_type": "markdown",
   "metadata": {},
   "source": [
    "Build Random Forest model from the dataset and compute important features. "
   ]
  },
  {
   "cell_type": "code",
   "execution_count": 6,
   "metadata": {},
   "outputs": [],
   "source": [
    "def build_forest(data):    \n",
    "    X, y, features = data.get_data(target=data.default_target_attribute, return_attribute_names=True); \n",
    "    forest = Pipeline([('Imputer', preprocessing.Imputer(missing_values='NaN', strategy='mean', axis=0)),\n",
    "                       ('classifiers', RandomForestClassifier(n_estimators=100, random_state=0))])\n",
    "    forest.fit(X,y)\n",
    "    \n",
    "    importances = forest.steps[1][1].feature_importances_\n",
    "    indices = np.argsort(importances)[::-1]\n",
    "    return data.name, features, importances, indices "
   ]
  },
  {
   "cell_type": "markdown",
   "metadata": {},
   "source": [
    "Plot Top-20 important features for the dataset. "
   ]
  },
  {
   "cell_type": "code",
   "execution_count": 7,
   "metadata": {},
   "outputs": [],
   "source": [
    "def plot_feature_importances(features, importances, indices):\n",
    "    a = 0.8\n",
    "    f_sub = []\n",
    "    max_features = 20\n",
    "\n",
    "    for f in range(min(len(features), max_features)): \n",
    "            f_sub.append(f)\n",
    "\n",
    "    # Create a figure of given size\n",
    "    fig = plt.figure(figsize=(6, 4))\n",
    "    ax = fig.add_subplot(111)\n",
    "    # Set title\n",
    "    ttl = dataset_name\n",
    "\n",
    "    df = pd.DataFrame(importances[indices[f_sub]][::-1])\n",
    "    df.plot(kind='barh', ax=ax, alpha=a, legend=False, edgecolor='w', \n",
    "            title=ttl, color = [plt.cm.viridis(np.arange(len(df))*10)])\n",
    "\n",
    "    # Remove grid lines and plot frame\n",
    "    ax.grid(False)\n",
    "    ax.set_frame_on(False)\n",
    "\n",
    "    # Customize title\n",
    "    ax.set_title(ax.get_title(), fontsize=14, alpha=a, ha='left', x=0, y=1.0)\n",
    "    plt.subplots_adjust(top=0.9)\n",
    "\n",
    "    # Customize x tick lables\n",
    "    ax.xaxis.set_major_formatter(FormatStrFormatter('%.3f'))\n",
    "    ax.locator_params(axis='x', tight=True, nbins=5)\n",
    "\n",
    "    # Customize y tick labels\n",
    "    yticks = np.array(features)[indices[f_sub]][::-1]\n",
    "    ax.set_yticklabels(yticks, fontsize=8, alpha=a)\n",
    "    ax.yaxis.set_tick_params(pad=2)\n",
    "    ax.yaxis.set_ticks_position('none')  \n",
    "    ax.set_ylim(ax.get_ylim()[0]-0.5, ax.get_ylim()[1]+0.5) \n",
    "\n",
    "    # Set x axis text\n",
    "    xlab = 'Feature importance'\n",
    "    ax.set_xlabel(xlab, fontsize=10, alpha=a)\n",
    "    ax.xaxis.set_label_coords(0.5, -0.1)\n",
    "\n",
    "    # Set y axis text\n",
    "    ylab = 'Feature'\n",
    "    ax.set_ylabel(ylab, fontsize=10, alpha=a)\n",
    "    plt.show() "
   ]
  },
  {
   "cell_type": "markdown",
   "metadata": {},
   "source": [
    "Choose desired dataset and generate the most important plot. "
   ]
  },
  {
   "cell_type": "code",
   "execution_count": 8,
   "metadata": {},
   "outputs": [],
   "source": [
    "dataset = 6"
   ]
  },
  {
   "cell_type": "code",
   "execution_count": 9,
   "metadata": {},
   "outputs": [
    {
     "data": {
      "image/png": "[encoded data removed]",
      "text/plain": [
       "<matplotlib.figure.Figure at 0x1dc65619710>"
      ]
     },
     "metadata": {},
     "output_type": "display_data"
    }
   ],
   "source": [
    "data = oml.datasets.get_dataset(dataset)\n",
    "dataset_name, features, importances, indices = build_forest(data)\n",
    "plot_feature_importances(features, importances, indices)"
   ]
  },
  {
   "cell_type": "markdown",
   "metadata": {},
   "source": [
    "Plot of the classification baseline acuracy of the various baseline strategies using scikit-learn DummyClassifier.\n",
    "\n",
    "The target feature is: **class**\n",
    "\n",
    "The following baseline strategies are used: stratified, most_frequent, prior, uniform.\n",
    "\n",
    "The strategies work as follow according to the sciki-learn API:\n",
    "\n",
    "- **stratified**: Generates predictions by respecting the training set’s class distribution.\n",
    "\n",
    "- **most_frequent**: Always predicts the most frequent label in the training set. Also known as ZeroR.\n",
    "\n",
    "- **prior**: Always predicts the class that maximizes the class prior. \n",
    "\n",
    "- **uniform**: Generates predictions uniformly at random.\n",
    "\n",
    "The horizontal red dotted line denotes the baseline value for this dataset which is equal to the best performing baseline strategy.\n",
    "\n",
    "[More information.](http://scikit-learn.org/stable/modules/generated/sklearn.dummy.DummyClassifier.html)\n"
   ]
  },
  {
   "cell_type": "code",
   "execution_count": 10,
   "metadata": {},
   "outputs": [
    {
     "data": {
      "image/png": "[encoded data removed]",
      "text/plain": [
       "<matplotlib.figure.Figure at 0x1dc65619b00>"
      ]
     },
     "metadata": {},
     "output_type": "display_data"
    }
   ],
   "source": [
    "maxBaseline = plot_baseline(baseline(data))\n",
    "strats = {} "
   ]
  },
  {
   "cell_type": "markdown",
   "metadata": {},
   "source": [
    "Runs the decision tree classification algorithm with default hyperparameters using scikit-learn DecisionTreeClassifier.\n",
    "\n",
    "[Explanation of how a decision tree works.](http://scikit-learn.org/stable/modules/tree.html)\n",
    "\n",
    "The following hyperparameters have been added and can directly be changed in this notebook for further experimentation.\n",
    "Their descriptions are according to the sciki-learn API:\n",
    "\n",
    "- **criterion**:  string, optional (default=”gini”)\n",
    "\n",
    "The function to measure the quality of a split. Supported criteria are “gini” for the Gini impurity and “entropy” for the information gain.\n",
    "\n",
    "- **max_depth**: int or None, optional (default=None)\n",
    "\n",
    "The maximum depth of the tree. If None, then nodes are expanded until all leaves are pure or until all leaves contain less than min_samples_split samples.\n",
    "\n",
    "- **min_samples_leaf**:  int, float, optional (default=1)\n",
    "\n",
    "The minimum number of samples required to be at a leaf node:\n",
    "\n",
    "- If int, then consider min_samples_leaf as the minimum number.\n",
    "- If float, then min_samples_leaf is a percentage and ceil(min_samples_leaf * n_samples) are the minimum number of samples for each node.\n",
    "\n",
    "\n",
    "- **max_features**: int, float, string or None, optional (default=None)\n",
    "\n",
    "The number of features to consider when looking for the best split:\n",
    "\n",
    "- If int, then consider max_features features at each split.\n",
    "- If float, then max_features is a percentage and int(max_features * n_features) features are considered at each split.\n",
    "- If “auto”, then max_features=sqrt(n_features).\n",
    "- If “sqrt”, then max_features=sqrt(n_features).\n",
    "- If “log2”, then max_features=log2(n_features).\n",
    "- If None, then max_features=n_features.\n",
    "\n",
    "Note: the search for a split does not stop until at least one valid partition of the node samples is found, even if it requires to effectively inspect more than max_features features. \n",
    "\n",
    "- **max_leaf_nodes**: int or None, optional (default=None)\n",
    "\n",
    "Grow a tree with max_leaf_nodes in best-first fashion. Best nodes are defined as relative reduction in impurity. If None then unlimited number of leaf nodes.\n",
    "\n",
    "[More information and additional hyperparameters.](http://scikit-learn.org/stable/modules/generated/sklearn.tree.DecisionTreeClassifier.html)\n"
   ]
  },
  {
   "cell_type": "code",
   "execution_count": 11,
   "metadata": {},
   "outputs": [],
   "source": [
    "#Runs the decision tree classifier algorithm on the dataset\n",
    "from sklearn import tree\n",
    "from sklearn.model_selection import KFold\n",
    "#Running default values, it is recommended to experiment with the values of the parameters below. Try min_samples_leaf=5\n",
    "clf = tree.DecisionTreeClassifier(criterion=\"gini\", max_depth=None, min_samples_leaf=1, max_features=None, max_leaf_nodes=None)\n",
    "X, y, features = data.get_data(target=data.default_target_attribute, return_attribute_names=True); \n",
    "folds = 10\n",
    "acc = 0\n",
    "\n",
    "X = np.nan_to_num(X) \n",
    "y = np.nan_to_num(y)\n",
    "\n",
    "p = len(features)\n",
    "n = len(X)\n",
    "#computational complexity O(n^2 * p)\n",
    "complexity = n**2 * p\n",
    "\n",
    "if complexity <= comp or comp == -1:\n",
    "    for x in range(1,folds+1):\n",
    "        if (n**2 * p * x) > comp and comp != -1:\n",
    "            folds = x-1\n",
    "            print(\"Number of folds would increase the complexity over the given threshold, number of folds has been set to: \" + str(folds))\n",
    "            break\n",
    "    if folds > len(y):\n",
    "        print(\"Number of folds are larger than number of samples, number of folds has been set to: \" + str(len(y)))\n",
    "        folds = len(y)\n",
    "    kf = KFold(n_splits=folds) \n",
    "    for train_index, test_index in kf.split(X,y):\n",
    "        X_train, X_test = X[train_index], X[test_index]\n",
    "        y_train, y_test = y[train_index], y[test_index]\n",
    "        clf.fit(X_train, y_train)\n",
    "        acc += clf.score(X_test, y_test)\n",
    "    strats['decision tree'] = acc / folds\n",
    "else: \n",
    "    print(\"computation complexity too high, please run manually if desired.\")   "
   ]
  },
  {
   "cell_type": "markdown",
   "metadata": {},
   "source": [
    "Runs the multinomial naive bayes algorithm with default hyperparameters using scikit-learn MultinomialNB.\n",
    "\n",
    "[Explanation of how naive bayes works.](http://scikit-learn.org/stable/modules/naive_bayes.html)\n",
    "\n",
    "The following hyperparameter has been added and can directly be changed in this notebook for further experimentation.\n",
    "The description according to the sciki-learn API is:\n",
    "\n",
    "- **alpha** : float, optional (default=1.0)\n",
    "\n",
    "Additive (Laplace/Lidstone) smoothing parameter (0 for no smoothing).\n",
    "\n",
    "[More information and additional hyperparameters.](http://scikit-learn.org/stable/modules/generated/sklearn.naive_bayes.MultinomialNB.html) "
   ]
  },
  {
   "cell_type": "code",
   "execution_count": 12,
   "metadata": {},
   "outputs": [],
   "source": [
    "#Runs the multinomial naive bayes algorithm on the dataset\n",
    "from sklearn.naive_bayes import MultinomialNB\n",
    "from sklearn.model_selection import KFold\n",
    "#Running default values, it is recommended to experiment with the values of the parameters below.\n",
    "clf = MultinomialNB(alpha=1.0)\n",
    "X, y, features = data.get_data(target=data.default_target_attribute, return_attribute_names=True); \n",
    "folds = 10\n",
    "acc = 0\n",
    "\n",
    "X = np.nan_to_num(X) \n",
    "y = np.nan_to_num(y)\n",
    "\n",
    "p = len(features)\n",
    "n = len(X)\n",
    "#computational complexity O(n * p)\n",
    "complexity = n * p\n",
    "\n",
    "if complexity <= comp or comp == -1:\n",
    "    for x in range(1,folds+1):\n",
    "        if ((n * p) * x ) > comp and comp != -1:\n",
    "            folds = x-1\n",
    "            print(\"Number of folds would increase the complexity over the given threshold, number of folds has been set to: \" + str(folds))\n",
    "            break\n",
    "    if folds > len(y):\n",
    "        print(\"Number of folds are larger than number of samples, number of folds has been set to: \" + str(len(y)))\n",
    "        folds = len(y)\n",
    "    kf = KFold(n_splits=folds) \n",
    "    for train_index, test_index in kf.split(X,y):\n",
    "        X_train, X_test = X[train_index], X[test_index]\n",
    "        y_train, y_test = y[train_index], y[test_index]\n",
    "        clf.fit(X_train, y_train)\n",
    "        acc += clf.score(X_test, y_test)\n",
    "    strats['naive bayes'] = acc / folds\n",
    "else: \n",
    "    print(\"computation complexity too high, please run manually if desired.\") "
   ]
  },
  {
   "cell_type": "markdown",
   "metadata": {},
   "source": [
    "Runs the random forest classification algorithm with default hyperparameters using scikit-learn RandomForestClassifier.\n",
    "\n",
    "[Explanation of how a random forest works.](http://scikit-learn.org/stable/modules/ensemble.html#forests-of-randomized-trees)\n",
    "\n",
    "The following hyperparameters have been added and can directly be changed in this notebook for further experimentation.\n",
    "Their descriptions are according to the sciki-learn API:\n",
    "\n",
    "- **n_estimators** : integer, optional (default=10)\n",
    "\n",
    "The number of trees in the forest.\n",
    "\n",
    "- **criterion**:  string, optional (default=”gini”)\n",
    "\n",
    "The function to measure the quality of a split. Supported criteria are “gini” for the Gini impurity and “entropy” for the information gain. Note: this parameter is tree-specific.\n",
    "\n",
    "- **max_depth**: integer or None, optional (default=None)\n",
    "\n",
    "The maximum depth of the tree. If None, then nodes are expanded until all leaves are pure or until all leaves contain less than min_samples_split samples.\n",
    "\n",
    "- **min_samples_leaf**:  int, float, optional (default=1)\n",
    "\n",
    "The minimum number of samples required to be at a leaf node:\n",
    "\n",
    "- If int, then consider min_samples_leaf as the minimum number.\n",
    "- If float, then min_samples_leaf is a percentage and ceil(min_samples_leaf * n_samples) are the minimum number of samples for each node.\n",
    "\n",
    "\n",
    "- **max_features**: int, float, string or None, optional (default=”auto”)\n",
    "\n",
    "The number of features to consider when looking for the best split:\n",
    "\n",
    "- If int, then consider max_features features at each split.\n",
    "- If float, then max_features is a percentage and int(max_features * n_features) features are considered at each split.\n",
    "- If “auto”, then max_features=sqrt(n_features).\n",
    "- If “sqrt”, then max_features=sqrt(n_features) (same as “auto”).\n",
    "- If “log2”, then max_features=log2(n_features).\n",
    "- If None, then max_features=n_features.\n",
    "\n",
    "Note: the search for a split does not stop until at least one valid partition of the node samples is found, even if it requires to effectively inspect more than max_features features.\n",
    "\n",
    "- **max_leaf_nodes**: int or None, optional (default=None)\n",
    "\n",
    "Grow trees with max_leaf_nodes in best-first fashion. Best nodes are defined as relative reduction in impurity. If None then unlimited number of leaf nodes.\n",
    "\n",
    "[More information and additional hyperparameters.](http://scikit-learn.org/stable/modules/generated/sklearn.ensemble.RandomForestClassifier.html) "
   ]
  },
  {
   "cell_type": "code",
   "execution_count": 13,
   "metadata": {},
   "outputs": [],
   "source": [
    "#Runs the random forest classifier algorithm on the dataset\n",
    "from sklearn.ensemble import RandomForestClassifier\n",
    "from sklearn.model_selection import KFold\n",
    "#Running default values, it is recommended to experiment with the values of the parameters below. Try changing n_trees/n_estimators and max_depth.\n",
    "n_trees = 10 #Sets n_estimators such that the complexity value is calculated correctly.\n",
    "clf = RandomForestClassifier(n_estimators=n_trees, criterion=\"gini\", max_depth=None, min_samples_leaf=1, max_features=None, max_leaf_nodes=None)\n",
    "X, y, features = data.get_data(target=data.default_target_attribute, return_attribute_names=True); \n",
    "folds = 10\n",
    "acc = 0\n",
    "\n",
    "X = np.nan_to_num(X) \n",
    "y = np.nan_to_num(y)\n",
    "\n",
    "p = len(features)\n",
    "n = len(X)\n",
    "#computational complexity O(n^2 * p * n_trees)\n",
    "complexity = n**2 * p * n_trees\n",
    "\n",
    "if complexity <= comp or comp == -1:\n",
    "    for x in range(1,folds+1):\n",
    "        if (n**2 * p * n_trees) > comp and comp != -1:\n",
    "            folds = x-1\n",
    "            print(\"Number of folds would increase the complexity over the given threshold, number of folds has been set to: \" + str(folds))\n",
    "            break\n",
    "    if folds > len(y):\n",
    "        print(\"Number of folds are larger than number of samples, number of folds has been set to: \" + str(len(y)))\n",
    "        folds = len(y)\n",
    "    kf = KFold(n_splits=folds) \n",
    "    for train_index, test_index in kf.split(X,y):\n",
    "        X_train, X_test = X[train_index], X[test_index]\n",
    "        y_train, y_test = y[train_index], y[test_index]\n",
    "        clf.fit(X_train, y_train)\n",
    "        acc += clf.score(X_test, y_test)\n",
    "    strats['random forest'] = acc / folds\n",
    "else: \n",
    "    print(\"computation complexity too high, please run manually if desired.\") "
   ]
  },
  {
   "cell_type": "markdown",
   "metadata": {},
   "source": [
    "Runs the classification support vector machine algorithm with default hyperparameters using scikit-learn SVC.\n",
    "\n",
    "[Explanation of how a support vector machine works.](http://scikit-learn.org/stable/modules/svm.html)\n",
    "\n",
    "The following hyperparameters have been added and can directly be changed in this notebook for further experimentation.\n",
    "Their descriptions are according to the sciki-learn API:\n",
    "\n",
    "- **C** : float, optional (default=1.0)\n",
    "\n",
    "Penalty parameter C of the error term.\n",
    "\n",
    "- **kernel**:  string, optional (default=’rbf’)\n",
    "\n",
    "Specifies the kernel type to be used in the algorithm. It must be one of ‘linear’, ‘poly’, ‘rbf’, ‘sigmoid’, ‘precomputed’ or a callable. If none is given, ‘rbf’ will be used. If a callable is given it is used to pre-compute the kernel matrix from data matrices; that matrix should be an array of shape (n_samples, n_samples).\n",
    "\n",
    "- **gamma**: float, optional (default=’auto’)\n",
    "\n",
    "Kernel coefficient for ‘rbf’, ‘poly’ and ‘sigmoid’. If gamma is ‘auto’ then 1/n_features will be used instead.\n",
    "\n",
    "[More information and additional hyperparameters.](http://scikit-learn.org/stable/modules/generated/sklearn.svm.SVC.html)\n"
   ]
  },
  {
   "cell_type": "code",
   "execution_count": 14,
   "metadata": {},
   "outputs": [
    {
     "name": "stdout",
     "output_type": "stream",
     "text": [
      "Number of folds would increase the complexity over the given threshold, number of folds has been set to: 6\n"
     ]
    }
   ],
   "source": [
    "#Runs the classification support vector machine algorithm on the dataset\n",
    "from sklearn import svm\n",
    "from sklearn.model_selection import KFold\n",
    "#Running default values, it is recommended to experiment with the values of the parameters below.\n",
    "clf = svm.SVC(C =1.0, kernel=\"rbf\", gamma=\"auto\")\n",
    "X, y, features = data.get_data(target=data.default_target_attribute, return_attribute_names=True); \n",
    "folds = 10\n",
    "acc = 0\n",
    "\n",
    "X = np.nan_to_num(X) \n",
    "y = np.nan_to_num(y)\n",
    "\n",
    "p = len(features)\n",
    "n = len(X)\n",
    "#computational complexity O(n^2 * p + n^3)\n",
    "complexity = n**2 * p + n**3\n",
    "\n",
    "if complexity <= comp or comp == -1:\n",
    "    for x in range(1,folds+1):\n",
    "        if ((n**2 * p + n**3) * x) > comp and comp != -1:\n",
    "            folds = x-1\n",
    "            print(\"Number of folds would increase the complexity over the given threshold, number of folds has been set to: \" + str(folds))\n",
    "            break\n",
    "    if folds > len(y):\n",
    "        print(\"Number of folds are larger than number of samples, number of folds has been set to: \" + str(len(y)))\n",
    "        folds = len(y)\n",
    "    kf = KFold(n_splits=folds) \n",
    "    for train_index, test_index in kf.split(X,y):\n",
    "        X_train, X_test = X[train_index], X[test_index]\n",
    "        y_train, y_test = y[train_index], y[test_index]\n",
    "        clf.fit(X_train, y_train)\n",
    "        acc += clf.score(X_test, y_test)\n",
    "    strats['support vector machine'] = acc / folds\n",
    "else: \n",
    "    print(\"computation complexity too high, please run manually if desired.\") "
   ]
  },
  {
   "cell_type": "markdown",
   "metadata": {},
   "source": [
    "Runs the classification k-nearest neighbours algorithm with default hyperparameters using scikit-learn KNeighborsClassifier.\n",
    "\n",
    "[Explanation of how k-nearest neighbours works.](http://scikit-learn.org/stable/modules/neighbors.html)\n",
    "\n",
    "The following hyperparameters have been added and can directly be changed in this notebook for further experimentation.\n",
    "Their descriptions are according to the sciki-learn API:\n",
    "\n",
    "- **n_neighbors** : int, optional (default = 5)\n",
    "\n",
    "Number of neighbors to use by default for kneighbors queries.\n",
    "\n",
    "- **weights** : str or callable, optional (default = ‘uniform’)\n",
    "\n",
    "weight function used in prediction. Possible values:\n",
    "\n",
    "- ‘uniform’ : uniform weights. All points in each neighborhood are weighted equally.\n",
    "- ‘distance’ : weight points by the inverse of their distance. in this case, closer neighbors of a query point will have a greater influence than neighbors which are further away.\n",
    "- [callable] : a user-defined function which accepts an array of distances, and returns an array of the same shape containing the weights.\n",
    "\n",
    "- algorithm : {‘auto’, ‘ball_tree’, ‘kd_tree’, ‘brute’}, optional\n",
    "\n",
    "Algorithm used to compute the nearest neighbors:\n",
    "\n",
    "- ‘ball_tree’ will use BallTree\n",
    "- ‘kd_tree’ will use KDTree\n",
    "- ‘brute’ will use a brute-force search.\n",
    "- ‘auto’ will attempt to decide the most appropriate algorithm based on the values passed to fit method.\n",
    "\n",
    "Note: fitting on sparse input will override the setting of this parameter, using brute force.\n",
    "\n",
    "[More information and additional hyperparameters.](http://scikit-learn.org/stable/modules/generated/sklearn.neighbors.KNeighborsClassifier.html)\n"
   ]
  },
  {
   "cell_type": "code",
   "execution_count": 15,
   "metadata": {},
   "outputs": [],
   "source": [
    "#Runs the classification k-nearest neighbours algorithm on the dataset\n",
    "from sklearn.neighbors import KNeighborsClassifier\n",
    "from sklearn.model_selection import KFold\n",
    "#Running default values, it is recommended to experiment with the values of the parameters below.\n",
    "clf = KNeighborsClassifier(n_neighbors = 5, weights = \"uniform\", algorithm = \"auto\")\n",
    "X, y, features = data.get_data(target=data.default_target_attribute, return_attribute_names=True); \n",
    "folds = 10\n",
    "acc = 0\n",
    "\n",
    "X = np.nan_to_num(X) \n",
    "y = np.nan_to_num(y)\n",
    "\n",
    "p = len(features)\n",
    "n = len(X)\n",
    "#computational complexity O(n * p)\n",
    "complexity = n * p \n",
    "\n",
    "if complexity <= comp or comp == -1:\n",
    "    for x in range(1,folds+1):\n",
    "        if (n * p * x) > comp and comp != -1:\n",
    "            folds = x-1\n",
    "            print(\"Number of folds would increase the complexity over the given threshold, number of folds has been set to: \" + str(folds))\n",
    "            break\n",
    "    if folds > len(y):\n",
    "        print(\"Number of folds are larger than number of samples, number of folds has been set to: \" + str(len(y)))\n",
    "        folds = len(y)\n",
    "    kf = KFold(n_splits=folds) \n",
    "    for train_index, test_index in kf.split(X,y):\n",
    "        X_train, X_test = X[train_index], X[test_index]\n",
    "        y_train, y_test = y[train_index], y[test_index]\n",
    "        clf.fit(X_train, y_train)\n",
    "        acc += clf.score(X_test, y_test)\n",
    "    strats['k-nearest neighbours'] = acc / folds\n",
    "else: \n",
    "    print(\"computation complexity too high, please run manually if desired.\")  "
   ]
  },
  {
   "cell_type": "markdown",
   "metadata": {},
   "source": [
    "Plot the accuracy of various machine learning algorithms against the baseline. "
   ]
  },
  {
   "cell_type": "code",
   "execution_count": 16,
   "metadata": {},
   "outputs": [
    {
     "data": {
      "image/png": "[encoded data removed]",
      "text/plain": [
       "<matplotlib.figure.Figure at 0x1dc6bd915f8>"
      ]
     },
     "metadata": {},
     "output_type": "display_data"
    }
   ],
   "source": [
    "plot_alg(strats, maxBaseline) "
   ]
  }
 ],
 "metadata": {},
 "nbformat": 4,
 "nbformat_minor": 2
}
